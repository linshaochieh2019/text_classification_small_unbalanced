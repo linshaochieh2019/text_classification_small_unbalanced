{
 "cells": [
  {
   "cell_type": "markdown",
   "metadata": {},
   "source": [
    "# Experimental Settings"
   ]
  },
  {
   "cell_type": "code",
   "execution_count": 36,
   "metadata": {},
   "outputs": [
    {
     "name": "stdout",
     "output_type": "stream",
     "text": [
      "{'labeled_data_size': 100, 'unlabeld_data_size': 100, 'num_train_epochs': 10}\n"
     ]
    }
   ],
   "source": [
    "import time\n",
    "\n",
    "# training dataset\n",
    "labeled_data_size = 100\n",
    "unlabeled_data_size = 100\n",
    "\n",
    "# training hyperparameter\n",
    "num_train_epochs = 10\n",
    "\n",
    "# dict_settings\n",
    "dict_settings = {\n",
    "    'labeled_data_size':labeled_data_size,\n",
    "    'unlabeld_data_size':unlabeled_data_size,\n",
    "    'num_train_epochs':num_train_epochs\n",
    "}\n",
    "\n",
    "print(dict_settings)\n",
    "\n",
    "entire_notebook_t0 = time.time()"
   ]
  },
  {
   "cell_type": "markdown",
   "metadata": {},
   "source": [
    "# Using GPU"
   ]
  },
  {
   "cell_type": "code",
   "execution_count": 37,
   "metadata": {},
   "outputs": [
    {
     "name": "stdout",
     "output_type": "stream",
     "text": [
      "Found GPU at: /device:GPU:0\n"
     ]
    }
   ],
   "source": [
    "import tensorflow as tf\n",
    "\n",
    "# Get the GPU device name.\n",
    "device_name = tf.test.gpu_device_name()\n",
    "\n",
    "# The device name should look like the following:\n",
    "assert device_name == '/device:GPU:0'\n",
    "print('Found GPU at: {}'.format(device_name))"
   ]
  },
  {
   "cell_type": "code",
   "execution_count": 38,
   "metadata": {},
   "outputs": [],
   "source": [
    "# import package and torch\n",
    "!pip install --upgrade packaging --quiet\n",
    "!pip install torch --quiet"
   ]
  },
  {
   "cell_type": "code",
   "execution_count": 39,
   "metadata": {},
   "outputs": [
    {
     "name": "stdout",
     "output_type": "stream",
     "text": [
      "Running GPU: GeForce GTX 1080 Ti\n"
     ]
    }
   ],
   "source": [
    "import torch\n",
    "\n",
    "assert torch.cuda.is_available()\n",
    "\n",
    "# Tell torch to use GPU\n",
    "device = torch.device(\"cuda\")\n",
    "print('Running GPU: {}'.format(torch.cuda.get_device_name()))"
   ]
  },
  {
   "cell_type": "code",
   "execution_count": 40,
   "metadata": {},
   "outputs": [],
   "source": [
    "# import essential modules\n",
    "import torch\n",
    "import torch.nn.functional as F\n",
    "import torch.nn as nn\n",
    "from torch.utils.data import TensorDataset, DataLoader, RandomSampler, SequentialSampler\n",
    "\n",
    "import random\n",
    "import numpy as np\n",
    "import pandas as pd\n",
    "\n",
    "import time\n",
    "import math\n",
    "import datetime"
   ]
  },
  {
   "cell_type": "code",
   "execution_count": 41,
   "metadata": {},
   "outputs": [
    {
     "data": {
      "text/plain": [
       "<torch._C.Generator at 0x7f296bb12b40>"
      ]
     },
     "execution_count": 41,
     "metadata": {},
     "output_type": "execute_result"
    }
   ],
   "source": [
    "# Set randon seed\n",
    "seed = 1\n",
    "\n",
    "random.seed(seed)\n",
    "np.random.seed(seed)\n",
    "torch.manual_seed(seed)"
   ]
  },
  {
   "cell_type": "markdown",
   "metadata": {},
   "source": [
    "# Prepare dataset"
   ]
  },
  {
   "cell_type": "markdown",
   "metadata": {},
   "source": [
    "Convert dataset to a list of tuples: [(text, label) ... ]\n",
    "\n",
    "1) 100 samples from each of 14 classes || 5.6k unlabeled data from the dataset\n"
   ]
  },
  {
   "cell_type": "code",
   "execution_count": 42,
   "metadata": {},
   "outputs": [
    {
     "name": "stdout",
     "output_type": "stream",
     "text": [
      "Number of different classes: 15\n"
     ]
    },
    {
     "data": {
      "text/plain": [
       "<matplotlib.axes._subplots.AxesSubplot at 0x7f29af51d208>"
      ]
     },
     "execution_count": 42,
     "metadata": {},
     "output_type": "execute_result"
    },
    {
     "data": {
      "image/png": "[encoded data removed]",
      "text/plain": [
       "<Figure size 432x288 with 1 Axes>"
      ]
     },
     "metadata": {
      "needs_background": "light"
     },
     "output_type": "display_data"
    }
   ],
   "source": [
    "# Load training dataset\n",
    "df = pd.read_csv('data/78k_without_punc.csv')\n",
    "\n",
    "# Mapping the class to label code\n",
    "# Label Encdoing\n",
    "class_map={'UNK':0, '股票':1, '体育':2, '娱乐':3, '时政':4,\n",
    "          '社会':5, '教育':6, '财经':7, '家居':8, '游戏':9,\n",
    "          '房产':10, '时尚':11,'彩票':12, '星座':13, '科技':14}\n",
    "\n",
    "# Show number of different classes\n",
    "n_classes = len(class_map)\n",
    "print('Number of different classes: {}'.format(n_classes))\n",
    "\n",
    "# Mapping the class names\n",
    "df['class'] = df['class'].map(class_map)\n",
    "\n",
    "# Show class countplot\n",
    "import seaborn as sns\n",
    "sns.countplot(df['class'])"
   ]
  },
  {
   "cell_type": "code",
   "execution_count": 43,
   "metadata": {},
   "outputs": [],
   "source": [
    "# Initaliza the first df\n",
    "df_sampled = df[df['class']==1].sample(labeled_data_size)\n",
    "\n",
    "# Import samples from the other classes\n",
    "for i in range(2,15):\n",
    "    df_temp = df[df['class'] == i].sample(labeled_data_size)\n",
    "    df_sampled = pd.concat((df_sampled, df_temp))"
   ]
  },
  {
   "cell_type": "code",
   "execution_count": 44,
   "metadata": {},
   "outputs": [
    {
     "name": "stdout",
     "output_type": "stream",
     "text": [
      "Number of data entries: 1400\n"
     ]
    },
    {
     "data": {
      "text/plain": [
       "<matplotlib.axes._subplots.AxesSubplot at 0x7f29af580cc0>"
      ]
     },
     "execution_count": 44,
     "metadata": {},
     "output_type": "execute_result"
    },
    {
     "data": {
      "image/png": "[encoded data removed]",
      "text/plain": [
       "<Figure size 432x288 with 1 Axes>"
      ]
     },
     "metadata": {
      "needs_background": "light"
     },
     "output_type": "display_data"
    }
   ],
   "source": [
    "# Show class countplo\n",
    "print('Number of data entries: {}'.format(len(df_sampled)))\n",
    "sns.countplot(df_sampled['class'])"
   ]
  },
  {
   "cell_type": "code",
   "execution_count": 45,
   "metadata": {},
   "outputs": [
    {
     "data": {
      "text/html": [
       "<div>\n",
       "<style scoped>\n",
       "    .dataframe tbody tr th:only-of-type {\n",
       "        vertical-align: middle;\n",
       "    }\n",
       "\n",
       "    .dataframe tbody tr th {\n",
       "        vertical-align: top;\n",
       "    }\n",
       "\n",
       "    .dataframe thead th {\n",
       "        text-align: right;\n",
       "    }\n",
       "</style>\n",
       "<table border=\"1\" class=\"dataframe\">\n",
       "  <thead>\n",
       "    <tr style=\"text-align: right;\">\n",
       "      <th></th>\n",
       "      <th>text</th>\n",
       "      <th>class</th>\n",
       "    </tr>\n",
       "  </thead>\n",
       "  <tbody>\n",
       "    <tr>\n",
       "      <th>6147</th>\n",
       "      <td>Ongamenet StarLeague专题回顾二 期回顾中讲述OSL发展历史对韩国全世界电...</td>\n",
       "      <td>UNK</td>\n",
       "    </tr>\n",
       "    <tr>\n",
       "      <th>60219</th>\n",
       "      <td>ESPN鹰王纯属鸡肋 送走扣篮王救命稻草 新浪体育讯北京时间8月9日过三年中亚特兰大老鹰队全...</td>\n",
       "      <td>UNK</td>\n",
       "    </tr>\n",
       "    <tr>\n",
       "      <th>53169</th>\n",
       "      <td>英国推出网络离婚计算器 指践踏婚姻制度 英国日邮报30日报道英国工党建立消费者金融教育机构C...</td>\n",
       "      <td>UNK</td>\n",
       "    </tr>\n",
       "    <tr>\n",
       "      <th>46243</th>\n",
       "      <td>申花客场平局扼杀金手指头奖--胜负彩035期对 北京时间04月08日中国足球彩票中国足球彩票...</td>\n",
       "      <td>UNK</td>\n",
       "    </tr>\n",
       "    <tr>\n",
       "      <th>52531</th>\n",
       "      <td>大宋豪侠新手攻略 话说大宋年间内奸臣道外强敌虎视值乱世三十六位义侠报效官府扮作卧底入大山寨七...</td>\n",
       "      <td>UNK</td>\n",
       "    </tr>\n",
       "    <tr>\n",
       "      <th>...</th>\n",
       "      <td>...</td>\n",
       "      <td>...</td>\n",
       "    </tr>\n",
       "    <tr>\n",
       "      <th>30717</th>\n",
       "      <td>08年新疆成高考招生录取低控制分数线     更多信息请访问新浪成考频道 成考论坛 成考博客...</td>\n",
       "      <td>UNK</td>\n",
       "    </tr>\n",
       "    <tr>\n",
       "      <th>37599</th>\n",
       "      <td>任志强称中国70%口富遭网友质疑 近日敢说著称大嘴任志强次语出惊次采访中称中国70%都富说什...</td>\n",
       "      <td>UNK</td>\n",
       "    </tr>\n",
       "    <tr>\n",
       "      <th>12623</th>\n",
       "      <td>骑士力取国王结束四连败 德克34分牛客场擒勇士 新浪体育讯北京时间3月17日三支球队客场过关...</td>\n",
       "      <td>UNK</td>\n",
       "    </tr>\n",
       "    <tr>\n",
       "      <th>7431</th>\n",
       "      <td>唐山大地震预告片曝光 冯刚催泪方 本报香港专电特派记者翟晓林没明星孩子冯刚就成功地令唐山大地...</td>\n",
       "      <td>UNK</td>\n",
       "    </tr>\n",
       "    <tr>\n",
       "      <th>11131</th>\n",
       "      <td>窗帘能发挥己装饰作图 窗帘丰富色彩图案家居中能装饰作实门窗需要地方窗帘能发挥己装饰作</td>\n",
       "      <td>UNK</td>\n",
       "    </tr>\n",
       "  </tbody>\n",
       "</table>\n",
       "<p>100 rows × 2 columns</p>\n",
       "</div>"
      ],
      "text/plain": [
       "                                                    text class\n",
       "6147   Ongamenet StarLeague专题回顾二 期回顾中讲述OSL发展历史对韩国全世界电...   UNK\n",
       "60219  ESPN鹰王纯属鸡肋 送走扣篮王救命稻草 新浪体育讯北京时间8月9日过三年中亚特兰大老鹰队全...   UNK\n",
       "53169  英国推出网络离婚计算器 指践踏婚姻制度 英国日邮报30日报道英国工党建立消费者金融教育机构C...   UNK\n",
       "46243  申花客场平局扼杀金手指头奖--胜负彩035期对 北京时间04月08日中国足球彩票中国足球彩票...   UNK\n",
       "52531  大宋豪侠新手攻略 话说大宋年间内奸臣道外强敌虎视值乱世三十六位义侠报效官府扮作卧底入大山寨七...   UNK\n",
       "...                                                  ...   ...\n",
       "30717  08年新疆成高考招生录取低控制分数线     更多信息请访问新浪成考频道 成考论坛 成考博客...   UNK\n",
       "37599  任志强称中国70%口富遭网友质疑 近日敢说著称大嘴任志强次语出惊次采访中称中国70%都富说什...   UNK\n",
       "12623  骑士力取国王结束四连败 德克34分牛客场擒勇士 新浪体育讯北京时间3月17日三支球队客场过关...   UNK\n",
       "7431   唐山大地震预告片曝光 冯刚催泪方 本报香港专电特派记者翟晓林没明星孩子冯刚就成功地令唐山大地...   UNK\n",
       "11131         窗帘能发挥己装饰作图 窗帘丰富色彩图案家居中能装饰作实门窗需要地方窗帘能发挥己装饰作   UNK\n",
       "\n",
       "[100 rows x 2 columns]"
      ]
     },
     "execution_count": 45,
     "metadata": {},
     "output_type": "execute_result"
    }
   ],
   "source": [
    "# Randomly choose 15k data entries which will be converted into unlabled data\n",
    "df_unlabeled = df.sample(unlabeled_data_size)\n",
    "\n",
    "# Convert class to UNK\n",
    "df_unlabeled['class'] = 'UNK'\n",
    "\n",
    "df_unlabeled"
   ]
  },
  {
   "cell_type": "code",
   "execution_count": 46,
   "metadata": {},
   "outputs": [
    {
     "name": "stdout",
     "output_type": "stream",
     "text": [
      "(1120, 2)\n",
      "(100, 2)\n",
      "(280, 2)\n"
     ]
    },
    {
     "name": "stderr",
     "output_type": "stream",
     "text": [
      "/opt/conda/lib/python3.7/site-packages/sklearn/utils/__init__.py:806: DeprecationWarning: `np.int` is a deprecated alias for the builtin `int`. To silence this warning, use `int` by itself. Doing this will not modify any behavior and is safe. When replacing `np.int`, you may wish to use e.g. `np.int64` or `np.int32` to specify the precision. If you wish to review your current use, check the release note link for additional information.\n",
      "Deprecated in NumPy 1.20; for more details and guidance: https://numpy.org/devdocs/release/1.20.0-notes.html#deprecations\n",
      "  return floored.astype(np.int)\n",
      "/opt/conda/lib/python3.7/site-packages/sklearn/utils/__init__.py:806: DeprecationWarning: `np.int` is a deprecated alias for the builtin `int`. To silence this warning, use `int` by itself. Doing this will not modify any behavior and is safe. When replacing `np.int`, you may wish to use e.g. `np.int64` or `np.int32` to specify the precision. If you wish to review your current use, check the release note link for additional information.\n",
      "Deprecated in NumPy 1.20; for more details and guidance: https://numpy.org/devdocs/release/1.20.0-notes.html#deprecations\n",
      "  return floored.astype(np.int)\n"
     ]
    }
   ],
   "source": [
    "# Split 20% of data from the df_sample as val_data\n",
    "from sklearn.model_selection import train_test_split\n",
    "\n",
    "df_labeled, df_val = train_test_split(df_sampled,\n",
    "                                    test_size=0.2,\n",
    "                                    random_state=1,\n",
    "                                    stratify=df_sampled['class'])\n",
    "\n",
    "for item in df_labeled, df_unlabeled, df_val:\n",
    "    print(item.shape)"
   ]
  },
  {
   "cell_type": "markdown",
   "metadata": {},
   "source": [
    "# Import BERT model"
   ]
  },
  {
   "cell_type": "code",
   "execution_count": 47,
   "metadata": {},
   "outputs": [],
   "source": [
    "!pip install transformers --quiet"
   ]
  },
  {
   "cell_type": "code",
   "execution_count": 48,
   "metadata": {},
   "outputs": [
    {
     "name": "stderr",
     "output_type": "stream",
     "text": [
      "Some weights of the model checkpoint at bert-base-chinese were not used when initializing BertModel: ['cls.predictions.transform.LayerNorm.bias', 'cls.predictions.transform.LayerNorm.weight', 'cls.predictions.decoder.weight', 'cls.seq_relationship.weight', 'cls.predictions.bias', 'cls.predictions.transform.dense.weight', 'cls.predictions.transform.dense.bias', 'cls.seq_relationship.bias']\n",
      "- This IS expected if you are initializing BertModel from the checkpoint of a model trained on another task or with another architecture (e.g. initializing a BertForSequenceClassification model from a BertForPreTraining model).\n",
      "- This IS NOT expected if you are initializing BertModel from the checkpoint of a model that you expect to be exactly identical (initializing a BertForSequenceClassification model from a BertForSequenceClassification model).\n"
     ]
    }
   ],
   "source": [
    "model_name = \"bert-base-chinese\"\n",
    "\n",
    "from transformers import BertModel, BertTokenizer\n",
    "\n",
    "# Load BERT tokenizer\n",
    "transformer = BertModel.from_pretrained(model_name)\n",
    "tokenizer = BertTokenizer.from_pretrained(model_name)"
   ]
  },
  {
   "cell_type": "markdown",
   "metadata": {},
   "source": [
    "# Prepare dataloader"
   ]
  },
  {
   "cell_type": "code",
   "execution_count": 49,
   "metadata": {},
   "outputs": [
    {
     "name": "stderr",
     "output_type": "stream",
     "text": [
      "/opt/conda/lib/python3.7/site-packages/ipykernel_launcher.py:23: SettingWithCopyWarning: \n",
      "A value is trying to be set on a copy of a slice from a DataFrame.\n",
      "Try using .loc[row_indexer,col_indexer] = value instead\n",
      "\n",
      "See the caveats in the documentation: http://pandas.pydata.org/pandas-docs/stable/user_guide/indexing.html#returning-a-view-versus-a-copy\n"
     ]
    },
    {
     "data": {
      "text/plain": [
       "Text(0.5, 1.0, 'df_val label mask')"
      ]
     },
     "execution_count": 49,
     "metadata": {},
     "output_type": "execute_result"
    },
    {
     "data": {
      "image/png": "[encoded data removed]",
      "text/plain": [
       "<Figure size 432x288 with 2 Axes>"
      ]
     },
     "metadata": {
      "needs_background": "light"
     },
     "output_type": "display_data"
    }
   ],
   "source": [
    "# Combine df_labeled and df_unlabeled into the train_dataloader\n",
    "df_train = pd.concat((df_labeled, df_unlabeled))\n",
    "\n",
    "# Convert UNK to class zero\n",
    "df_train['class'] = df_train['class'].apply(lambda x: 0 if x=='UNK' else x)\n",
    "\n",
    "# Create a new column for label_mask\n",
    "def generate_label_mask(label):\n",
    "    if label == 0:\n",
    "        return 0\n",
    "    else:\n",
    "        return 1\n",
    "\n",
    "df_train['label_mask'] = df_train['class'].apply(generate_label_mask)\n",
    "\n",
    "# Show label_mask distribution\n",
    "import matplotlib.pyplot as plt\n",
    "plt.subplot(1,2,1)\n",
    "sns.countplot(df_train['label_mask'])\n",
    "plt.title('df_train label mask')\n",
    "\n",
    "# Generate label mask for df_val\n",
    "df_val['label_mask'] = df_val['class'].apply(generate_label_mask)\n",
    "\n",
    "# Show label_mask distribution\n",
    "plt.subplot(1,2,2)\n",
    "sns.countplot(df_val['label_mask'])\n",
    "plt.title('df_val label mask')\n"
   ]
  },
  {
   "cell_type": "code",
   "execution_count": 50,
   "metadata": {},
   "outputs": [],
   "source": [
    "# Hyperparameteres\n",
    "max_length = 128\n",
    "batch_size = 32\n",
    "\n",
    "# Tokenization and covnert dataframes to datasets\n",
    "def encode_df(df):\n",
    "    input_ids = []\n",
    "    attention_mask = []\n",
    "    texts = df['text'].values\n",
    "    labels = df['class'].values\n",
    "    label_masks = df['label_mask'].values\n",
    "    \n",
    "    for text in texts:\n",
    "        encoded_dict = tokenizer.encode_plus(text,\n",
    "                                             add_special_tokens=True,\n",
    "                                             padding='max_length',\n",
    "                                             return_attention_mask=True,\n",
    "                                             max_length=max_length,\n",
    "                                             return_tensors='pt',\n",
    "                                             truncation=True)\n",
    "        \n",
    "        input_ids.append(encoded_dict['input_ids'])\n",
    "        attention_mask.append(encoded_dict['attention_mask'])\n",
    "    \n",
    "    return input_ids, attention_mask, labels, label_masks"
   ]
  },
  {
   "cell_type": "code",
   "execution_count": 51,
   "metadata": {},
   "outputs": [],
   "source": [
    "# Concat input_ds and attention_mask\n",
    "def concat_data(input_ids, attention_mask, labels, label_masks):\n",
    "    input_ids = torch.cat(input_ids, dim=0)\n",
    "    attention_mask = torch.cat(attention_mask, dim=0)\n",
    "    labels = torch.tensor(labels)\n",
    "    label_masks = torch.tensor(label_masks)\n",
    "    \n",
    "    return input_ids, attention_mask, labels, label_masks"
   ]
  },
  {
   "cell_type": "code",
   "execution_count": 52,
   "metadata": {},
   "outputs": [],
   "source": [
    "# Convert encoded data to dataset\n",
    "def make_dataloader(input_ids, attention_mask, labels, label_masks, random_sampler=True):\n",
    "    temp_dataset = TensorDataset(input_ids, attention_mask, labels, label_masks)\n",
    "    \n",
    "    if random_sampler:\n",
    "        dataloader = DataLoader(temp_dataset,\n",
    "                                batch_size=batch_size,\n",
    "                                sampler=RandomSampler(temp_dataset))\n",
    "\n",
    "    else:\n",
    "        dataloader = DataLoader(temp_dataset,\n",
    "                                batch_size=batch_size,\n",
    "                                sampler=SequentialSampler(temp_dataset))\n",
    "    \n",
    "    return dataloader"
   ]
  },
  {
   "cell_type": "code",
   "execution_count": 53,
   "metadata": {},
   "outputs": [],
   "source": [
    "# Convert df_labeled, df_unlabeled, df_val to dataloader\n",
    "\n",
    "#df_labeled\n",
    "input_ids, attention_mask, labels, label_masks = encode_df(df_train)\n",
    "input_ids, attention_mask, labels, label_masks = concat_data(input_ids, attention_mask, labels, label_masks)\n",
    "train_dataloader = make_dataloader(input_ids, attention_mask, labels, label_masks, random_sampler=True)\n",
    "\n",
    "#df_val\n",
    "input_ids, attention_mask, labels, label_masks = encode_df(df_val)\n",
    "input_ids, attention_mask, labels, label_masks = concat_data(input_ids, attention_mask, labels, label_masks)\n",
    "test_dataloader = make_dataloader(input_ids, attention_mask, labels, label_masks, random_sampler=False)\n"
   ]
  },
  {
   "cell_type": "markdown",
   "metadata": {},
   "source": [
    "# Set up the models"
   ]
  },
  {
   "cell_type": "code",
   "execution_count": 54,
   "metadata": {},
   "outputs": [],
   "source": [
    "# Hyperparameters\n",
    "noise_size = 100\n",
    "drate = 0.2\n",
    "\n",
    "# Replicate labeled data to balance poorly represented datasets, \n",
    "# e.g., less than 1% of labeled material\n",
    "#apply_balance = True"
   ]
  },
  {
   "cell_type": "code",
   "execution_count": 55,
   "metadata": {},
   "outputs": [],
   "source": [
    "from torch.nn import Module, Linear, LeakyReLU, Dropout, Sequential, Softmax\n",
    "import torch.nn.functional as F\n",
    "\n",
    "class Generator(nn.Module):\n",
    "    def __init__(self, noise_size=100, output_size=512, hidden_sizes=[512], dropout_rate=0.1):\n",
    "        super(Generator, self).__init__()\n",
    "        layers = []\n",
    "        hidden_sizes = [noise_size] + hidden_sizes\n",
    "        for i in range(len(hidden_sizes)-1):\n",
    "            layers.extend([nn.Linear(hidden_sizes[i], hidden_sizes[i+1]), nn.LeakyReLU(0.2, inplace=True), nn.Dropout(dropout_rate)])\n",
    "\n",
    "        layers.append(nn.Linear(hidden_sizes[-1],output_size))\n",
    "        self.layers = nn.Sequential(*layers)\n",
    "\n",
    "    def forward(self, noise):\n",
    "        output_rep = self.layers(noise)\n",
    "        return output_rep\n",
    "\n",
    "class Discriminator(nn.Module):\n",
    "    def __init__(self, input_size=512, hidden_sizes=[512], num_labels=2, dropout_rate=0.1):\n",
    "        super(Discriminator, self).__init__()\n",
    "        self.input_dropout = nn.Dropout(p=dropout_rate)\n",
    "        layers = []\n",
    "        hidden_sizes = [input_size] + hidden_sizes\n",
    "        for i in range(len(hidden_sizes)-1):\n",
    "            layers.extend([nn.Linear(hidden_sizes[i], hidden_sizes[i+1]), nn.LeakyReLU(0.2, inplace=True), nn.Dropout(dropout_rate)])\n",
    "\n",
    "        self.layers = nn.Sequential(*layers) #per il flatten\n",
    "        self.logit = nn.Linear(hidden_sizes[-1],num_labels+1) # +1 for the probability of this sample being fake/real.\n",
    "        self.softmax = nn.Softmax(dim=-1)\n",
    "\n",
    "    def forward(self, input_rep):\n",
    "        input_rep = self.input_dropout(input_rep)\n",
    "        last_rep = self.layers(input_rep)\n",
    "        logits = self.logit(last_rep)\n",
    "        probs = self.softmax(logits)\n",
    "        return last_rep, logits, probs"
   ]
  },
  {
   "cell_type": "code",
   "execution_count": 56,
   "metadata": {},
   "outputs": [],
   "source": [
    "# Model configuraiton\n",
    "from transformers import BertConfig\n",
    "config = BertConfig.from_pretrained(model_name)\n",
    "\n",
    "# Get BERT's hidden size\n",
    "hidden_size = int(config.hidden_size)\n",
    "\n",
    "# Setup hidden_levels\n",
    "hidden_levels = [hidden_size]"
   ]
  },
  {
   "cell_type": "code",
   "execution_count": 57,
   "metadata": {},
   "outputs": [],
   "source": [
    "# Hyperparameters\n",
    "n_class = len(df_train['class'].unique())\n",
    "\n",
    "# Initialize the models\n",
    "generator = Generator(noise_size=noise_size, output_size=hidden_size, hidden_sizes=hidden_levels, dropout_rate=drate)\n",
    "discriminator = Discriminator(input_size=hidden_size, hidden_sizes=hidden_levels, num_labels=n_class, dropout_rate=drate)\n",
    "\n",
    "# Move models to GPU\n",
    "for model in transformer,generator,discriminator:\n",
    "    model.cuda()"
   ]
  },
  {
   "cell_type": "markdown",
   "metadata": {},
   "source": [
    "# Training"
   ]
  },
  {
   "cell_type": "code",
   "execution_count": 58,
   "metadata": {},
   "outputs": [],
   "source": [
    "def format_time(elapsed):\n",
    "    '''\n",
    "    Takes a time in seconds and returns a string hh:mm:ss\n",
    "    '''\n",
    "    # Round to the nearest second.\n",
    "    elapsed_rounded = int(round((elapsed)))\n",
    "    # Format as hh:mm:ss\n",
    "    return str(datetime.timedelta(seconds=elapsed_rounded))"
   ]
  },
  {
   "cell_type": "code",
   "execution_count": 61,
   "metadata": {},
   "outputs": [],
   "source": [
    "# Schedule\n",
    "apply_scheduler = False\n",
    "warmup_proportion = 0.1\n",
    "\n",
    "# Print\n",
    "print_each_n_step = 10\n",
    "\n",
    "if apply_scheduler:\n",
    "    num_train_examples = len(train_examples)\n",
    "    num_train_steps = int(num_train_examples / batch_size * num_train_epochs)\n",
    "    num_warmup_steps = int(num_train_steps * warmup_proportion)\n",
    "\n",
    "    scheduler_d = get_constant_schedule_with_warmup(dis_optimizer, \n",
    "                                           num_warmup_steps = num_warmup_steps)\n",
    "    scheduler_g = get_constant_schedule_with_warmup(gen_optimizer, \n",
    "                                           num_warmup_steps = num_warmup_steps)"
   ]
  },
  {
   "cell_type": "code",
   "execution_count": 62,
   "metadata": {},
   "outputs": [
    {
     "name": "stdout",
     "output_type": "stream",
     "text": [
      "\n",
      "======== Epoch 1 / 10 ========\n",
      "Training...\n",
      "  Batch    10  of     39.    Elapsed: 0:00:05.\n",
      "  Batch    20  of     39.    Elapsed: 0:00:11.\n",
      "  Batch    30  of     39.    Elapsed: 0:00:16.\n",
      "\n",
      "  Average training loss generetor: 0.370\n",
      "  Average training loss discriminator: 3.713\n",
      "  Training epcoh took: 0:00:20\n",
      "\n",
      "Running Test...\n",
      "  Accuracy: 0.918\n",
      "  Test Loss: 1.081\n",
      "  Test took: 0:00:01\n",
      "\n",
      "======== Epoch 2 / 10 ========\n",
      "Training...\n",
      "  Batch    10  of     39.    Elapsed: 0:00:05.\n",
      "  Batch    20  of     39.    Elapsed: 0:00:11.\n",
      "  Batch    30  of     39.    Elapsed: 0:00:16.\n",
      "\n",
      "  Average training loss generetor: 0.763\n",
      "  Average training loss discriminator: 1.451\n",
      "  Training epcoh took: 0:00:20\n",
      "\n",
      "Running Test...\n",
      "  Accuracy: 0.918\n",
      "  Test Loss: 0.449\n",
      "  Test took: 0:00:01\n",
      "\n",
      "======== Epoch 3 / 10 ========\n",
      "Training...\n",
      "  Batch    10  of     39.    Elapsed: 0:00:05.\n",
      "  Batch    20  of     39.    Elapsed: 0:00:11.\n",
      "  Batch    30  of     39.    Elapsed: 0:00:16.\n",
      "\n",
      "  Average training loss generetor: 0.750\n",
      "  Average training loss discriminator: 1.011\n",
      "  Training epcoh took: 0:00:21\n",
      "\n",
      "Running Test...\n",
      "  Accuracy: 0.943\n",
      "  Test Loss: 0.306\n",
      "  Test took: 0:00:01\n",
      "\n",
      "======== Epoch 4 / 10 ========\n",
      "Training...\n",
      "  Batch    10  of     39.    Elapsed: 0:00:05.\n",
      "  Batch    20  of     39.    Elapsed: 0:00:11.\n",
      "  Batch    30  of     39.    Elapsed: 0:00:16.\n",
      "\n",
      "  Average training loss generetor: 0.747\n",
      "  Average training loss discriminator: 0.976\n",
      "  Training epcoh took: 0:00:21\n",
      "\n",
      "Running Test...\n",
      "  Accuracy: 0.904\n",
      "  Test Loss: 0.483\n",
      "  Test took: 0:00:01\n",
      "\n",
      "======== Epoch 5 / 10 ========\n",
      "Training...\n",
      "  Batch    10  of     39.    Elapsed: 0:00:05.\n",
      "  Batch    20  of     39.    Elapsed: 0:00:11.\n",
      "  Batch    30  of     39.    Elapsed: 0:00:16.\n",
      "\n",
      "  Average training loss generetor: 0.740\n",
      "  Average training loss discriminator: 0.883\n",
      "  Training epcoh took: 0:00:21\n",
      "\n",
      "Running Test...\n",
      "  Accuracy: 0.943\n",
      "  Test Loss: 0.292\n",
      "  Test took: 0:00:01\n",
      "\n",
      "======== Epoch 6 / 10 ========\n",
      "Training...\n",
      "  Batch    10  of     39.    Elapsed: 0:00:05.\n",
      "  Batch    20  of     39.    Elapsed: 0:00:11.\n",
      "  Batch    30  of     39.    Elapsed: 0:00:16.\n",
      "\n",
      "  Average training loss generetor: 0.730\n",
      "  Average training loss discriminator: 0.805\n",
      "  Training epcoh took: 0:00:21\n",
      "\n",
      "Running Test...\n",
      "  Accuracy: 0.929\n",
      "  Test Loss: 0.345\n",
      "  Test took: 0:00:01\n",
      "\n",
      "======== Epoch 7 / 10 ========\n",
      "Training...\n",
      "  Batch    10  of     39.    Elapsed: 0:00:05.\n",
      "  Batch    20  of     39.    Elapsed: 0:00:11.\n",
      "  Batch    30  of     39.    Elapsed: 0:00:16.\n",
      "\n",
      "  Average training loss generetor: 0.731\n",
      "  Average training loss discriminator: 0.779\n",
      "  Training epcoh took: 0:00:21\n",
      "\n",
      "Running Test...\n",
      "  Accuracy: 0.929\n",
      "  Test Loss: 0.358\n",
      "  Test took: 0:00:01\n",
      "\n",
      "======== Epoch 8 / 10 ========\n",
      "Training...\n",
      "  Batch    10  of     39.    Elapsed: 0:00:06.\n",
      "  Batch    20  of     39.    Elapsed: 0:00:11.\n",
      "  Batch    30  of     39.    Elapsed: 0:00:17.\n",
      "\n",
      "  Average training loss generetor: 0.728\n",
      "  Average training loss discriminator: 0.757\n",
      "  Training epcoh took: 0:00:21\n",
      "\n",
      "Running Test...\n",
      "  Accuracy: 0.939\n",
      "  Test Loss: 0.342\n",
      "  Test took: 0:00:01\n",
      "\n",
      "======== Epoch 9 / 10 ========\n",
      "Training...\n",
      "  Batch    10  of     39.    Elapsed: 0:00:06.\n",
      "  Batch    20  of     39.    Elapsed: 0:00:11.\n",
      "  Batch    30  of     39.    Elapsed: 0:00:17.\n",
      "\n",
      "  Average training loss generetor: 0.723\n",
      "  Average training loss discriminator: 0.737\n",
      "  Training epcoh took: 0:00:21\n",
      "\n",
      "Running Test...\n",
      "  Accuracy: 0.929\n",
      "  Test Loss: 0.338\n",
      "  Test took: 0:00:01\n",
      "\n",
      "======== Epoch 10 / 10 ========\n",
      "Training...\n",
      "  Batch    10  of     39.    Elapsed: 0:00:05.\n",
      "  Batch    20  of     39.    Elapsed: 0:00:11.\n",
      "  Batch    30  of     39.    Elapsed: 0:00:16.\n",
      "\n",
      "  Average training loss generetor: 0.721\n",
      "  Average training loss discriminator: 0.739\n",
      "  Training epcoh took: 0:00:21\n",
      "\n",
      "Running Test...\n",
      "  Accuracy: 0.929\n",
      "  Test Loss: 0.331\n",
      "  Test took: 0:00:01\n"
     ]
    }
   ],
   "source": [
    "# Hyperparameters\n",
    "training_stats = []\n",
    "epsilon = 1e-8\n",
    "\n",
    "# Measure the total training time for the whole run.\n",
    "total_t0 = time.time()\n",
    "\n",
    "#models parameters\n",
    "transformer_vars = [i for i in transformer.parameters()]\n",
    "d_vars = transformer_vars + [v for v in discriminator.parameters()]\n",
    "g_vars = [v for v in generator.parameters()]\n",
    "\n",
    "#optimizer\n",
    "from torch.optim import AdamW\n",
    "lr = 5e-5\n",
    "dis_optimizer = torch.optim.AdamW(d_vars, lr=lr)\n",
    "gen_optimizer = torch.optim.AdamW(g_vars, lr=lr) \n",
    "\n",
    "# For each epoch...\n",
    "for epoch_i in range(0, num_train_epochs):\n",
    "    # ========================================\n",
    "    #               Training\n",
    "    # ========================================\n",
    "    # Perform one full pass over the training set.\n",
    "    print(\"\")\n",
    "    print('======== Epoch {:} / {:} ========'.format(epoch_i + 1, num_train_epochs))\n",
    "    print('Training...')\n",
    "\n",
    "    # Measure how long the training epoch takes.\n",
    "    t0 = time.time()\n",
    "\n",
    "    # Reset the total loss for this epoch.\n",
    "    tr_g_loss = 0\n",
    "    tr_d_loss = 0\n",
    "\n",
    "    # Set the models as training mode.\n",
    "    transformer.train() \n",
    "    generator.train()\n",
    "    discriminator.train()\n",
    "\n",
    "    # For each batch of training data...\n",
    "    for step, batch in enumerate(train_dataloader):\n",
    "\n",
    "        # Progress update every print_each_n_step batches.\n",
    "        if step % print_each_n_step == 0 and not step == 0:\n",
    "            # Calculate elapsed time in minutes.\n",
    "            elapsed = format_time(time.time() - t0)\n",
    "            \n",
    "            # Report progress.\n",
    "            print('  Batch {:>5,}  of  {:>5,}.    Elapsed: {:}.'.format(step, len(train_dataloader), elapsed))\n",
    "\n",
    "        # Unpack this training batch from our dataloader. \n",
    "        b_input_ids = batch[0].to(device)\n",
    "        b_input_mask = batch[1].to(device)\n",
    "        b_labels = batch[2].to(device)\n",
    "        b_label_mask = batch[3].to(device)\n",
    "     \n",
    "        # Encode real data with the Transformer\n",
    "        model_outputs = transformer(b_input_ids, attention_mask=b_input_mask)\n",
    "        hidden_states = model_outputs[-1]\n",
    "        \n",
    "        # Generate fake data that should have the same distribution of the ones encoded by the transformer. \n",
    "        # Firstly noisy input are used in input to the Generator\n",
    "        noise = torch.zeros(b_input_ids.shape[0], noise_size, device=device).uniform_(0, 1)\n",
    "        # Gnerate Fake data\n",
    "        gen_rep = generator(noise)\n",
    "\n",
    "        # Generate the output of the Discriminator for real and fake data.\n",
    "        # First, we put together the output of the tranformer and the generator\n",
    "        disciminator_input = torch.cat([hidden_states, gen_rep], dim=0)\n",
    "        # Then, we select the output of the disciminator\n",
    "        features, logits, probs = discriminator(disciminator_input)\n",
    "\n",
    "        # Finally, we separate the discriminator's output for the real and fake data.\n",
    "        split_size = int(features.shape[0]/2)\n",
    "        features_list = torch.split(features, split_size)\n",
    "        D_real_features = features_list[0]\n",
    "        D_fake_features = features_list[1]\n",
    "      \n",
    "        logits_list = torch.split(logits, split_size)\n",
    "        D_real_logits = logits_list[0]\n",
    "        D_fake_logits = logits_list[1]\n",
    "        \n",
    "        probs_list = torch.split(probs, split_size)\n",
    "        D_real_probs = probs_list[0]\n",
    "        D_fake_probs = probs_list[1]\n",
    "\n",
    "        #---------------------------------\n",
    "        #  LOSS evaluation\n",
    "        #---------------------------------\n",
    "        # Generator's LOSS estimation\n",
    "        g_loss_d = -1 * torch.mean(torch.log(1 - D_fake_probs[:,-1] + epsilon))\n",
    "        g_feat_reg = torch.mean(torch.pow(torch.mean(D_real_features, dim=0) - torch.mean(D_fake_features, dim=0), 2))\n",
    "        g_loss = g_loss_d + g_feat_reg\n",
    "  \n",
    "        # Disciminator's LOSS estimation\n",
    "        logits = D_real_logits[:, :-1]\n",
    "        log_probs = F.log_softmax(logits, dim=-1)\n",
    "        # The discriminator provides an output for labeled and unlabeled real data\n",
    "        # so the loss evaluated for unlabeled data is ignored (masked)\n",
    "        label2one_hot = torch.nn.functional.one_hot(b_labels, len(class_map))\n",
    "        per_example_loss = -torch.sum(label2one_hot * log_probs, dim=-1)\n",
    "        per_example_loss = torch.masked_select(per_example_loss, b_label_mask.type(torch.bool).to(device))\n",
    "        labeled_example_count = per_example_loss.type(torch.float32).numel()\n",
    "\n",
    "        # It may be the case that a batch does not contain labeled examples, \n",
    "        # so the \"supervised loss\" in this case is not evaluated\n",
    "        if labeled_example_count == 0:\n",
    "            D_L_Supervised = 0\n",
    "        else:\n",
    "            D_L_Supervised = torch.div(torch.sum(per_example_loss.to(device)), labeled_example_count)\n",
    "                 \n",
    "        D_L_unsupervised1U = -1 * torch.mean(torch.log(1 - D_real_probs[:, -1] + epsilon))\n",
    "        D_L_unsupervised2U = -1 * torch.mean(torch.log(D_fake_probs[:, -1] + epsilon))\n",
    "        d_loss = D_L_Supervised + D_L_unsupervised1U + D_L_unsupervised2U\n",
    "\n",
    "        #---------------------------------\n",
    "        #  OPTIMIZATION\n",
    "        #---------------------------------\n",
    "        # Avoid gradient accumulation\n",
    "        gen_optimizer.zero_grad()\n",
    "        dis_optimizer.zero_grad()\n",
    "\n",
    "        # Calculate weigth updates\n",
    "        # retain_graph=True is required since the underlying graph will be deleted after backward\n",
    "        g_loss.backward(retain_graph=True)\n",
    "        d_loss.backward() \n",
    "        \n",
    "        # Apply modifications\n",
    "        gen_optimizer.step()\n",
    "        dis_optimizer.step()\n",
    "\n",
    "        # A detail log of the individual losses\n",
    "        #print(\"{0:.4f}\\t{1:.4f}\\t{2:.4f}\\t{3:.4f}\\t{4:.4f}\".\n",
    "        #      format(D_L_Supervised, D_L_unsupervised1U, D_L_unsupervised2U,\n",
    "        #             g_loss_d, g_feat_reg))\n",
    "\n",
    "        # Save the losses to print them later\n",
    "        tr_g_loss += g_loss.item()\n",
    "        tr_d_loss += d_loss.item()\n",
    "\n",
    "        # Update the learning rate with the scheduler\n",
    "        if apply_scheduler:\n",
    "            scheduler_d.step()\n",
    "            scheduler_g.step()\n",
    "\n",
    "    # Calculate the average loss over all of the batches.\n",
    "    avg_train_loss_g = tr_g_loss / len(train_dataloader)\n",
    "    avg_train_loss_d = tr_d_loss / len(train_dataloader)             \n",
    "    \n",
    "    # Measure how long this epoch took.\n",
    "    training_time = format_time(time.time() - t0)\n",
    "\n",
    "    print(\"\")\n",
    "    print(\"  Average training loss generetor: {0:.3f}\".format(avg_train_loss_g))\n",
    "    print(\"  Average training loss discriminator: {0:.3f}\".format(avg_train_loss_d))\n",
    "    print(\"  Training epcoh took: {:}\".format(training_time))\n",
    "        \n",
    "    # ========================================\n",
    "    #     TEST ON THE EVALUATION DATASET\n",
    "    # ========================================\n",
    "    # After the completion of each training epoch, measure our performance on\n",
    "    # our test set.\n",
    "    print(\"\")\n",
    "    print(\"Running Test...\")\n",
    "\n",
    "    t0 = time.time()\n",
    "\n",
    "    # Put the model in evaluation mode--the dropout layers behave differently\n",
    "    # during evaluation.\n",
    "    transformer.eval() #maybe redundant\n",
    "    discriminator.eval()\n",
    "    generator.eval()\n",
    "\n",
    "    # Tracking variables \n",
    "    total_test_accuracy = 0\n",
    "   \n",
    "    total_test_loss = 0\n",
    "    nb_test_steps = 0\n",
    "\n",
    "    all_preds = []\n",
    "    all_labels_ids = []\n",
    "\n",
    "    #loss\n",
    "    nll_loss = torch.nn.CrossEntropyLoss(ignore_index=-1)\n",
    "\n",
    "    # Evaluate data for one epoch\n",
    "    for batch in test_dataloader:\n",
    "        \n",
    "        # Unpack this training batch from our dataloader. \n",
    "        b_input_ids = batch[0].to(device)\n",
    "        b_input_mask = batch[1].to(device)\n",
    "        b_labels = batch[2].to(device)\n",
    "        \n",
    "        # Tell pytorch not to bother with constructing the compute graph during\n",
    "        # the forward pass, since this is only needed for backprop (training).\n",
    "        with torch.no_grad():        \n",
    "            model_outputs = transformer(b_input_ids, attention_mask=b_input_mask)\n",
    "            hidden_states = model_outputs[-1]\n",
    "            _, logits, probs = discriminator(hidden_states)\n",
    "            ###log_probs = F.log_softmax(probs[:,1:], dim=-1)\n",
    "            filtered_logits = logits[:,0:-1]\n",
    "            # Accumulate the test loss.\n",
    "            total_test_loss += nll_loss(filtered_logits, b_labels)\n",
    "            \n",
    "        # Accumulate the predictions and the input labels\n",
    "        _, preds = torch.max(filtered_logits, 1)\n",
    "        all_preds += preds.detach().cpu()\n",
    "        all_labels_ids += b_labels.detach().cpu()\n",
    "\n",
    "    # Report the final accuracy for this validation run.\n",
    "    all_preds = torch.stack(all_preds).numpy()\n",
    "    all_labels_ids = torch.stack(all_labels_ids).numpy()\n",
    "    test_accuracy = np.sum(all_preds == all_labels_ids) / len(all_preds)\n",
    "    print(\"  Accuracy: {0:.3f}\".format(test_accuracy))\n",
    "\n",
    "    # Calculate the average loss over all of the batches.\n",
    "    avg_test_loss = total_test_loss / len(test_dataloader)\n",
    "    avg_test_loss = avg_test_loss.item()\n",
    "    \n",
    "    # Measure how long the validation run took.\n",
    "    test_time = format_time(time.time() - t0)\n",
    "    \n",
    "    print(\"  Test Loss: {0:.3f}\".format(avg_test_loss))\n",
    "    print(\"  Test took: {:}\".format(test_time))\n",
    "\n",
    "    # Record all statistics from this epoch.\n",
    "    training_stats.append(\n",
    "        {\n",
    "            'epoch': epoch_i + 1,\n",
    "            'Training Loss generator': avg_train_loss_g,\n",
    "            'Training Loss discriminator': avg_train_loss_d,\n",
    "            'Valid. Loss': avg_test_loss,\n",
    "            'Valid. Accur.': test_accuracy,\n",
    "            'Training Time': training_time,\n",
    "            'Test Time': test_time\n",
    "        }\n",
    "    )\n"
   ]
  },
  {
   "cell_type": "code",
   "execution_count": 63,
   "metadata": {},
   "outputs": [
    {
     "data": {
      "text/plain": [
       "<matplotlib.legend.Legend at 0x7f29b09b2b38>"
      ]
     },
     "execution_count": 63,
     "metadata": {},
     "output_type": "execute_result"
    },
    {
     "data": {
      "image/png": "[encoded data removed]",
      "text/plain": [
       "<Figure size 432x288 with 2 Axes>"
      ]
     },
     "metadata": {
      "needs_background": "light"
     },
     "output_type": "display_data"
    }
   ],
   "source": [
    "#Training loss\n",
    "ls_g_loss = []\n",
    "ls_d_loss = []\n",
    "ls_val_loss = []\n",
    "ls_val_acc = []\n",
    "\n",
    "for i in range(len(training_stats)):\n",
    "    ls_g_loss.append(training_stats[i]['Training Loss generator'])\n",
    "    ls_d_loss.append(training_stats[i]['Training Loss discriminator'])\n",
    "    ls_val_loss.append(training_stats[i]['Valid. Loss'])\n",
    "    ls_val_acc.append(training_stats[i]['Valid. Accur.'])\n",
    "    \n",
    "#Plotting\n",
    "plt.subplot(1,2,1)\n",
    "plt.plot(ls_g_loss, label='g_loss')\n",
    "plt.plot(ls_d_loss, label='d_loss')\n",
    "plt.legend(loc='upper right')\n",
    "         \n",
    "plt.subplot(1,2,2)\n",
    "plt.plot(ls_val_loss, label='val_loss')\n",
    "plt.plot(ls_val_acc, label='val_acc', color='red', linestyle='--')\n",
    "plt.legend(loc='upper left')\n"
   ]
  },
  {
   "cell_type": "markdown",
   "metadata": {},
   "source": [
    "# Saving the models"
   ]
  },
  {
   "cell_type": "code",
   "execution_count": 64,
   "metadata": {},
   "outputs": [],
   "source": [
    "t_PATH = 'model/GAN/GAN_L100_UL2k_EP10.pt'\n",
    "torch.save(transformer.state_dict(), t_PATH)\n",
    "\n",
    "d_PATH = 'model/GAN/GAN_L100_UL2k_EP10.pt'\n",
    "torch.save(discriminator.state_dict(), d_PATH)\n",
    "\n",
    "g_PATH = 'model/GAN/GAN_L100_UL2k_EP10.pt'\n",
    "torch.save(generator.state_dict(), g_PATH)\n"
   ]
  },
  {
   "cell_type": "markdown",
   "metadata": {},
   "source": [
    "# Making predictions"
   ]
  },
  {
   "cell_type": "code",
   "execution_count": 65,
   "metadata": {},
   "outputs": [
    {
     "name": "stdout",
     "output_type": "stream",
     "text": [
      "Number of data entries: 125412\n"
     ]
    },
    {
     "data": {
      "text/html": [
       "<div>\n",
       "<style scoped>\n",
       "    .dataframe tbody tr th:only-of-type {\n",
       "        vertical-align: middle;\n",
       "    }\n",
       "\n",
       "    .dataframe tbody tr th {\n",
       "        vertical-align: top;\n",
       "    }\n",
       "\n",
       "    .dataframe thead th {\n",
       "        text-align: right;\n",
       "    }\n",
       "</style>\n",
       "<table border=\"1\" class=\"dataframe\">\n",
       "  <thead>\n",
       "    <tr style=\"text-align: right;\">\n",
       "      <th></th>\n",
       "      <th>class</th>\n",
       "      <th>text</th>\n",
       "      <th>label_mask</th>\n",
       "    </tr>\n",
       "  </thead>\n",
       "  <tbody>\n",
       "    <tr>\n",
       "      <th>118079</th>\n",
       "      <td>1</td>\n",
       "      <td>通独立债权团体判定组建官方委员会新浪财经讯 北京时间6月24日晚间消息国外媒体报道美国曼哈顿...</td>\n",
       "      <td>1</td>\n",
       "    </tr>\n",
       "    <tr>\n",
       "      <th>61117</th>\n",
       "      <td>8</td>\n",
       "      <td>纯白色乡村风格家具图纯白色乡村风格家具配合白色乡村格调家具选择鲜花作室内调色良方富肌理凹凸效...</td>\n",
       "      <td>1</td>\n",
       "    </tr>\n",
       "    <tr>\n",
       "      <th>79462</th>\n",
       "      <td>14</td>\n",
       "      <td>维亚康姆出售游戏业务Harmonix Music Systems新浪科技讯 北京时间12月2...</td>\n",
       "      <td>1</td>\n",
       "    </tr>\n",
       "  </tbody>\n",
       "</table>\n",
       "</div>"
      ],
      "text/plain": [
       "        class                                               text  label_mask\n",
       "118079      1  通独立债权团体判定组建官方委员会新浪财经讯 北京时间6月24日晚间消息国外媒体报道美国曼哈顿...           1\n",
       "61117       8  纯白色乡村风格家具图纯白色乡村风格家具配合白色乡村格调家具选择鲜花作室内调色良方富肌理凹凸效...           1\n",
       "79462      14  维亚康姆出售游戏业务Harmonix Music Systems新浪科技讯 北京时间12月2...           1"
      ]
     },
     "execution_count": 65,
     "metadata": {},
     "output_type": "execute_result"
    }
   ],
   "source": [
    "# Load 125k dataset\n",
    "df_target = pd.read_csv('data/125k_without_punc.csv')\n",
    "#df.columns = ['class', 'text']\n",
    "\n",
    "# Show number of data entries\n",
    "print('Number of data entries: {}'.format(len(df_target)))\n",
    "\n",
    "# Mapping class to number\n",
    "df_target['class'] = df_target['class'].map(class_map)\n",
    "\n",
    "# label_mask\n",
    "df_target['label_mask'] = df_target['class'].apply(generate_label_mask)\n",
    "\n",
    "# Show a few samples\n",
    "df_target.sample(3)"
   ]
  },
  {
   "cell_type": "code",
   "execution_count": 66,
   "metadata": {},
   "outputs": [],
   "source": [
    "# Convert df_target to dataloader\n",
    "#t0 = time.time()\n",
    "\n",
    "input_ids, attention_mask, labels, label_masks = encode_df(df_target)\n",
    "input_ids, attention_mask, labels, label_masks = concat_data(input_ids, attention_mask, labels, label_masks)\n",
    "target_dataloader = make_dataloader(input_ids, attention_mask, labels, label_masks, random_sampler=False)\n",
    "\n",
    "#print('Tokenization took time: {}'.format(format_time(time.time()-t0)))"
   ]
  },
  {
   "cell_type": "code",
   "execution_count": 67,
   "metadata": {},
   "outputs": [
    {
     "name": "stdout",
     "output_type": "stream",
     "text": [
      "\n",
      "Running Prediction...\n",
      "  Accuracy: 0.783\n",
      "  Test Loss: 1.097\n",
      "  Test took: 0:07:33\n",
      "Show experimental settings: {'labeled_data_size': 100, 'unlabeld_data_size': 100, 'num_train_epochs': 10}\n",
      "\n",
      "\n"
     ]
    }
   ],
   "source": [
    "prediction_stats = []\n",
    "\n",
    "print(\"\")\n",
    "print(\"Running Prediction...\")\n",
    "\n",
    "t0 = time.time()\n",
    "\n",
    "# Set models to eval mode\n",
    "transformer.eval() \n",
    "discriminator.eval()\n",
    "\n",
    "# Tracking variables \n",
    "total_pred_accuracy = 0\n",
    "total_pred_loss = 0\n",
    "\n",
    "all_preds = []\n",
    "all_labels_ids = []\n",
    "\n",
    "#loss\n",
    "nll_loss = torch.nn.CrossEntropyLoss(ignore_index=-1)\n",
    "\n",
    "# Evaluate data for one epoch\n",
    "for batch in target_dataloader:\n",
    "    b_input_ids = batch[0].to(device)\n",
    "    b_input_mask = batch[1].to(device)\n",
    "    b_labels = batch[2].to(device)\n",
    "\n",
    "    with torch.no_grad():        \n",
    "        model_outputs = transformer(b_input_ids, attention_mask=b_input_mask)\n",
    "        hidden_states = model_outputs[-1]\n",
    "        _, logits, probs = discriminator(hidden_states)\n",
    "        ###log_probs = F.log_softmax(probs[:,1:], dim=-1)\n",
    "        filtered_logits = logits[:,0:-1]\n",
    "        # Accumulate the test loss.\n",
    "        total_pred_loss += nll_loss(filtered_logits, b_labels)\n",
    "\n",
    "    # Accumulate the predictions and the input labels\n",
    "    _, preds = torch.max(filtered_logits, 1)\n",
    "    all_preds += preds.detach().cpu()\n",
    "    all_labels_ids += b_labels.detach().cpu()\n",
    "\n",
    "# Report the final accuracy for this validation run.\n",
    "all_preds = torch.stack(all_preds).numpy()\n",
    "all_labels_ids = torch.stack(all_labels_ids).numpy()\n",
    "pred_accuracy = np.sum(all_preds == all_labels_ids) / len(all_preds)\n",
    "print(\"  Accuracy: {0:.3f}\".format(pred_accuracy))\n",
    "\n",
    "# Calculate the average loss over all of the batches.\n",
    "avg_pred_loss = total_pred_loss / len(target_dataloader)\n",
    "avg_pred_loss = avg_pred_loss.item()\n",
    "\n",
    "# Measure how long the validation run took.\n",
    "pred_time = format_time(time.time() - t0)\n",
    "\n",
    "print(\"  Test Loss: {0:.3f}\".format(avg_pred_loss))\n",
    "print(\"  Test took: {:}\".format(pred_time))\n",
    "\n",
    "# Record all statistics from this epoch.\n",
    "print('Show experimental settings: {}'.format(dict_settings))\n",
    "print('\\n')\n",
    "\n",
    "prediction_stats.append(\n",
    "    {\n",
    "        'Prediction. Loss': avg_pred_loss,\n",
    "        'prediction. Accur.': pred_accuracy,\n",
    "        'Prediction Time': pred_time,\n",
    "    }\n",
    ")"
   ]
  },
  {
   "cell_type": "code",
   "execution_count": 68,
   "metadata": {},
   "outputs": [
    {
     "data": {
      "text/plain": [
       "<matplotlib.axes._subplots.AxesSubplot at 0x7f29af637ba8>"
      ]
     },
     "execution_count": 68,
     "metadata": {},
     "output_type": "execute_result"
    },
    {
     "data": {
      "image/png": "[encoded data removed]",
      "text/plain": [
       "<Figure size 432x288 with 2 Axes>"
      ]
     },
     "metadata": {
      "needs_background": "light"
     },
     "output_type": "display_data"
    }
   ],
   "source": [
    "from sklearn.metrics import confusion_matrix, classification_report\n",
    "\n",
    "# Confusion matrix\n",
    "cm = confusion_matrix(all_preds, all_labels_ids)\n",
    "\n",
    "sns.heatmap(cm)"
   ]
  },
  {
   "cell_type": "code",
   "execution_count": 69,
   "metadata": {},
   "outputs": [
    {
     "name": "stdout",
     "output_type": "stream",
     "text": [
      "              precision    recall  f1-score   support\n",
      "\n",
      "           1       0.68      0.84      0.75     18963\n",
      "           2       0.90      0.96      0.93     18540\n",
      "           3       0.87      0.92      0.89     13181\n",
      "           4       0.73      0.78      0.75      8891\n",
      "           5       0.86      0.70      0.77      9313\n",
      "           6       0.94      0.83      0.88      7137\n",
      "           7       0.58      0.44      0.50      7251\n",
      "           8       0.89      0.76      0.82      5715\n",
      "           9       0.92      0.55      0.69      6185\n",
      "          10       0.92      0.48      0.63      5714\n",
      "          11       0.97      0.59      0.73      3313\n",
      "          12       0.92      0.30      0.45      3534\n",
      "          13       0.97      0.77      0.86       678\n",
      "          14       0.65      0.94      0.77     16997\n",
      "\n",
      "    accuracy                           0.78    125412\n",
      "   macro avg       0.84      0.70      0.74    125412\n",
      "weighted avg       0.80      0.78      0.78    125412\n",
      "\n"
     ]
    }
   ],
   "source": [
    "# Classification report\n",
    "cr = classification_report(all_preds, all_labels_ids)\n",
    "\n",
    "print(cr)"
   ]
  },
  {
   "cell_type": "markdown",
   "metadata": {},
   "source": [
    "# Time took for the entire noteobok"
   ]
  },
  {
   "cell_type": "code",
   "execution_count": 70,
   "metadata": {},
   "outputs": [
    {
     "name": "stdout",
     "output_type": "stream",
     "text": [
      "Time took for the entire notebook: -1614.9070932865143\n"
     ]
    }
   ],
   "source": [
    "time_diff = entire_notebook_t0 - time.time()\n",
    "print('Time took for the entire notebook: {}'.format(time_diff))"
   ]
  },
  {
   "cell_type": "code",
   "execution_count": null,
   "metadata": {},
   "outputs": [],
   "source": []
  }
 ],
 "metadata": {
  "kernelspec": {
   "display_name": "Python 3",
   "language": "python",
   "name": "python3"
  },
  "language_info": {
   "codemirror_mode": {
    "name": "ipython",
    "version": 3
   },
   "file_extension": ".py",
   "mimetype": "text/x-python",
   "name": "python",
   "nbconvert_exporter": "python",
   "pygments_lexer": "ipython3",
   "version": "3.7.3"
  }
 },
 "nbformat": 4,
 "nbformat_minor": 4
}
