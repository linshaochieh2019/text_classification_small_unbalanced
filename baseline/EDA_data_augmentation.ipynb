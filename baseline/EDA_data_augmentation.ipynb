{
 "cells": [
  {
   "cell_type": "code",
   "execution_count": 1,
   "metadata": {},
   "outputs": [],
   "source": [
    "# How many data to generate: n folds\n",
    "n = 8\n",
    "replace_rate = 0.4"
   ]
  },
  {
   "cell_type": "markdown",
   "metadata": {},
   "source": [
    "# Import dataset"
   ]
  },
  {
   "cell_type": "code",
   "execution_count": 16,
   "metadata": {},
   "outputs": [
    {
     "name": "stdout",
     "output_type": "stream",
     "text": [
      "Number of data entries: 78056\n"
     ]
    },
    {
     "data": {
      "text/html": [
       "<div>\n",
       "<style scoped>\n",
       "    .dataframe tbody tr th:only-of-type {\n",
       "        vertical-align: middle;\n",
       "    }\n",
       "\n",
       "    .dataframe tbody tr th {\n",
       "        vertical-align: top;\n",
       "    }\n",
       "\n",
       "    .dataframe thead th {\n",
       "        text-align: right;\n",
       "    }\n",
       "</style>\n",
       "<table border=\"1\" class=\"dataframe\">\n",
       "  <thead>\n",
       "    <tr style=\"text-align: right;\">\n",
       "      <th></th>\n",
       "      <th>text</th>\n",
       "      <th>class</th>\n",
       "    </tr>\n",
       "  </thead>\n",
       "  <tbody>\n",
       "    <tr>\n",
       "      <th>14009</th>\n",
       "      <td>实穿衣指导蓝色时髦恋组图 导语蓝色季令兴奋色彩实穿衣指导场合玩转蓝色牛仔衣+牛仔短裤蓝色牛仔...</td>\n",
       "      <td>时尚</td>\n",
       "    </tr>\n",
       "    <tr>\n",
       "      <th>71804</th>\n",
       "      <td>昌平园栖霞湖90平2居现房售均价20000图 新浪房产讯实习编辑 田硕园栖霞湖论坛 相册 户...</td>\n",
       "      <td>房产</td>\n",
       "    </tr>\n",
       "    <tr>\n",
       "      <th>41541</th>\n",
       "      <td>韩国鬼马家居饰品组图 韩国饰品年轻中十分流行购买消费者大多数年轻单身族希望限家居空间内体现出...</td>\n",
       "      <td>家居</td>\n",
       "    </tr>\n",
       "  </tbody>\n",
       "</table>\n",
       "</div>"
      ],
      "text/plain": [
       "                                                    text class\n",
       "14009  实穿衣指导蓝色时髦恋组图 导语蓝色季令兴奋色彩实穿衣指导场合玩转蓝色牛仔衣+牛仔短裤蓝色牛仔...    时尚\n",
       "71804  昌平园栖霞湖90平2居现房售均价20000图 新浪房产讯实习编辑 田硕园栖霞湖论坛 相册 户...    房产\n",
       "41541  韩国鬼马家居饰品组图 韩国饰品年轻中十分流行购买消费者大多数年轻单身族希望限家居空间内体现出...    家居"
      ]
     },
     "execution_count": 16,
     "metadata": {},
     "output_type": "execute_result"
    }
   ],
   "source": [
    "import numpy as np\n",
    "import pandas as pd\n",
    "\n",
    "# Load 78k dataset\n",
    "df = pd.read_csv('data/78k_without_punc.csv')\n",
    "#df.columns = ['class', 'text']\n",
    "\n",
    "# Show number of data entries\n",
    "print('Number of data entries: {}'.format(len(df)))\n",
    "\n",
    "# Show a few samples\n",
    "df.sample(3)"
   ]
  },
  {
   "cell_type": "code",
   "execution_count": 17,
   "metadata": {},
   "outputs": [
    {
     "data": {
      "text/plain": [
       "<matplotlib.axes._subplots.AxesSubplot at 0x7f0703738710>"
      ]
     },
     "execution_count": 17,
     "metadata": {},
     "output_type": "execute_result"
    },
    {
     "data": {
      "image/png": "[encoded data removed]",
      "text/plain": [
       "<Figure size 432x288 with 1 Axes>"
      ]
     },
     "metadata": {
      "needs_background": "light"
     },
     "output_type": "display_data"
    }
   ],
   "source": [
    "# Label Encdoing\n",
    "class_map={'科技':0, '股票':1, '体育':2, '娱乐':3, '时政':4,\n",
    "          '社会':5, '教育':6, '财经':7, '家居':8, '游戏':9,\n",
    "          '房产':10, '时尚':11,'彩票':12, '星座':13}\n",
    "\n",
    "# Mapping the class names\n",
    "df['class'] = df['class'].map(class_map)\n",
    "\n",
    "# Show class countplot\n",
    "import seaborn as sns\n",
    "sns.countplot(df['class'])"
   ]
  },
  {
   "cell_type": "code",
   "execution_count": 13,
   "metadata": {},
   "outputs": [
    {
     "name": "stdout",
     "output_type": "stream",
     "text": [
      "{'科技': 0, '股票': 1, '体育': 2, '娱乐': 3, '时政': 4, '社会': 5, '教育': 6, '财经': 7, '家居': 8, '游戏': 9, '房产': 10, '时尚': 11, '彩票': 12, '星座': 13}\n"
     ]
    }
   ],
   "source": [
    "print(class_map)"
   ]
  },
  {
   "cell_type": "markdown",
   "metadata": {},
   "source": [
    "# Experiment settings\n",
    "5000 samples from class 0 - 11 || 400 samples from class 12 || 100 samples from class 13"
   ]
  },
  {
   "cell_type": "code",
   "execution_count": 4,
   "metadata": {},
   "outputs": [],
   "source": [
    "ls_sample_size = [5000, 4000, 100]\n",
    "\n",
    "# class 13\n",
    "class_rare = 13\n",
    "df_rare = df[df['class'] == class_rare].sample(ls_sample_size[2])\n",
    "\n",
    "# class 12\n",
    "class_mild = 12\n",
    "df_mild = df[df['class'] == class_mild].sample(ls_sample_size[1])\n",
    "\n",
    "# Concat the first two dataframes\n",
    "df_sample = pd.concat((df_rare, df_mild))\n",
    "\n",
    "# Import samples from the other classes\n",
    "for i in range(12):\n",
    "    df_temp = df[df['class'] == i].sample(ls_sample_size[0])\n",
    "    df_sample = pd.concat((df_sample, df_temp))"
   ]
  },
  {
   "cell_type": "code",
   "execution_count": 5,
   "metadata": {},
   "outputs": [
    {
     "data": {
      "text/plain": [
       "<matplotlib.axes._subplots.AxesSubplot at 0x7f0da85327f0>"
      ]
     },
     "execution_count": 5,
     "metadata": {},
     "output_type": "execute_result"
    },
    {
     "data": {
      "image/png": "[encoded data removed]",
      "text/plain": [
       "<Figure size 432x288 with 1 Axes>"
      ]
     },
     "metadata": {
      "needs_background": "light"
     },
     "output_type": "display_data"
    }
   ],
   "source": [
    "# Show df_sample class distribution\n",
    "sns.countplot(df_sample['class'])"
   ]
  },
  {
   "cell_type": "markdown",
   "metadata": {},
   "source": [
    "# EDA"
   ]
  },
  {
   "cell_type": "code",
   "execution_count": 6,
   "metadata": {},
   "outputs": [],
   "source": [
    "!pip install jieba --quiet\n",
    "!pip install synonyms --quiet"
   ]
  },
  {
   "cell_type": "code",
   "execution_count": 7,
   "metadata": {},
   "outputs": [
    {
     "name": "stderr",
     "output_type": "stream",
     "text": [
      "/opt/conda/lib/python3.7/site-packages/sklearn/linear_model/least_angle.py:30: DeprecationWarning: `np.float` is a deprecated alias for the builtin `float`. To silence this warning, use `float` by itself. Doing this will not modify any behavior and is safe. If you specifically wanted the numpy scalar type, use `np.float64` here.\n",
      "Deprecated in NumPy 1.20; for more details and guidance: https://numpy.org/devdocs/release/1.20.0-notes.html#deprecations\n",
      "  method='lar', copy_X=True, eps=np.finfo(np.float).eps,\n",
      "/opt/conda/lib/python3.7/site-packages/sklearn/linear_model/least_angle.py:167: DeprecationWarning: `np.float` is a deprecated alias for the builtin `float`. To silence this warning, use `float` by itself. Doing this will not modify any behavior and is safe. If you specifically wanted the numpy scalar type, use `np.float64` here.\n",
      "Deprecated in NumPy 1.20; for more details and guidance: https://numpy.org/devdocs/release/1.20.0-notes.html#deprecations\n",
      "  method='lar', copy_X=True, eps=np.finfo(np.float).eps,\n",
      "/opt/conda/lib/python3.7/site-packages/sklearn/linear_model/least_angle.py:284: DeprecationWarning: `np.float` is a deprecated alias for the builtin `float`. To silence this warning, use `float` by itself. Doing this will not modify any behavior and is safe. If you specifically wanted the numpy scalar type, use `np.float64` here.\n",
      "Deprecated in NumPy 1.20; for more details and guidance: https://numpy.org/devdocs/release/1.20.0-notes.html#deprecations\n",
      "  eps=np.finfo(np.float).eps, copy_Gram=True, verbose=0,\n",
      "/opt/conda/lib/python3.7/site-packages/sklearn/linear_model/least_angle.py:862: DeprecationWarning: `np.float` is a deprecated alias for the builtin `float`. To silence this warning, use `float` by itself. Doing this will not modify any behavior and is safe. If you specifically wanted the numpy scalar type, use `np.float64` here.\n",
      "Deprecated in NumPy 1.20; for more details and guidance: https://numpy.org/devdocs/release/1.20.0-notes.html#deprecations\n",
      "  eps=np.finfo(np.float).eps, copy_X=True, fit_path=True,\n",
      "/opt/conda/lib/python3.7/site-packages/sklearn/linear_model/least_angle.py:1101: DeprecationWarning: `np.float` is a deprecated alias for the builtin `float`. To silence this warning, use `float` by itself. Doing this will not modify any behavior and is safe. If you specifically wanted the numpy scalar type, use `np.float64` here.\n",
      "Deprecated in NumPy 1.20; for more details and guidance: https://numpy.org/devdocs/release/1.20.0-notes.html#deprecations\n",
      "  eps=np.finfo(np.float).eps, copy_X=True, fit_path=True,\n",
      "/opt/conda/lib/python3.7/site-packages/sklearn/linear_model/least_angle.py:1127: DeprecationWarning: `np.float` is a deprecated alias for the builtin `float`. To silence this warning, use `float` by itself. Doing this will not modify any behavior and is safe. If you specifically wanted the numpy scalar type, use `np.float64` here.\n",
      "Deprecated in NumPy 1.20; for more details and guidance: https://numpy.org/devdocs/release/1.20.0-notes.html#deprecations\n",
      "  eps=np.finfo(np.float).eps, positive=False):\n",
      "/opt/conda/lib/python3.7/site-packages/sklearn/linear_model/least_angle.py:1362: DeprecationWarning: `np.float` is a deprecated alias for the builtin `float`. To silence this warning, use `float` by itself. Doing this will not modify any behavior and is safe. If you specifically wanted the numpy scalar type, use `np.float64` here.\n",
      "Deprecated in NumPy 1.20; for more details and guidance: https://numpy.org/devdocs/release/1.20.0-notes.html#deprecations\n",
      "  max_n_alphas=1000, n_jobs=None, eps=np.finfo(np.float).eps,\n",
      "/opt/conda/lib/python3.7/site-packages/sklearn/linear_model/least_angle.py:1602: DeprecationWarning: `np.float` is a deprecated alias for the builtin `float`. To silence this warning, use `float` by itself. Doing this will not modify any behavior and is safe. If you specifically wanted the numpy scalar type, use `np.float64` here.\n",
      "Deprecated in NumPy 1.20; for more details and guidance: https://numpy.org/devdocs/release/1.20.0-notes.html#deprecations\n",
      "  max_n_alphas=1000, n_jobs=None, eps=np.finfo(np.float).eps,\n",
      "/opt/conda/lib/python3.7/site-packages/sklearn/linear_model/least_angle.py:1738: DeprecationWarning: `np.float` is a deprecated alias for the builtin `float`. To silence this warning, use `float` by itself. Doing this will not modify any behavior and is safe. If you specifically wanted the numpy scalar type, use `np.float64` here.\n",
      "Deprecated in NumPy 1.20; for more details and guidance: https://numpy.org/devdocs/release/1.20.0-notes.html#deprecations\n",
      "  eps=np.finfo(np.float).eps, copy_X=True, positive=False):\n",
      "/opt/conda/lib/python3.7/site-packages/sklearn/decomposition/online_lda.py:29: DeprecationWarning: `np.float` is a deprecated alias for the builtin `float`. To silence this warning, use `float` by itself. Doing this will not modify any behavior and is safe. If you specifically wanted the numpy scalar type, use `np.float64` here.\n",
      "Deprecated in NumPy 1.20; for more details and guidance: https://numpy.org/devdocs/release/1.20.0-notes.html#deprecations\n",
      "  EPS = np.finfo(np.float).eps\n"
     ]
    },
    {
     "name": "stdout",
     "output_type": "stream",
     "text": [
      "[jieba] default dict file path ../data/vocab.txt\n"
     ]
    },
    {
     "name": "stderr",
     "output_type": "stream",
     "text": [
      "Building prefix dict from /opt/conda/lib/python3.7/site-packages/synonyms/data/vocab.txt ...\n"
     ]
    },
    {
     "name": "stdout",
     "output_type": "stream",
     "text": [
      ">> Synonyms load wordseg dict [/opt/conda/lib/python3.7/site-packages/synonyms/data/vocab.txt] ... \n"
     ]
    },
    {
     "name": "stderr",
     "output_type": "stream",
     "text": [
      "Dumping model to file cache /tmp/jieba.u6f697c8bf898f0ec0801bea13ec82eb1.cache\n",
      "Loading model cost 2.275 seconds.\n",
      "Prefix dict has been built succesfully.\n"
     ]
    },
    {
     "name": "stdout",
     "output_type": "stream",
     "text": [
      ">> Synonyms on loading stopwords [/opt/conda/lib/python3.7/site-packages/synonyms/data/stopwords.txt] ...\n",
      "[Synonyms] on loading vectors [/opt/conda/lib/python3.7/site-packages/synonyms/data/words.vector.gz] ...\n",
      "\n",
      "[Synonyms] downloading data from https://github.com/chatopera/Synonyms/releases/download/3.15.0/words.vector.gz to /opt/conda/lib/python3.7/site-packages/synonyms/data/words.vector.gz ... \n",
      " this only happens if SYNONYMS_WORD2VEC_BIN_URL_ZH_CN is not present and Synonyms initialization for the first time. \n",
      " It would take minutes that depends on network.\n",
      "\n",
      "[Synonyms] downloaded.\n",
      "\n"
     ]
    },
    {
     "name": "stderr",
     "output_type": "stream",
     "text": [
      "/opt/conda/lib/python3.7/site-packages/smart_open/smart_open_lib.py:402: UserWarning: This function is deprecated, use smart_open.open instead. See the migration notes for details: https://github.com/RaRe-Technologies/smart_open/blob/master/README.rst#migrating-to-the-new-open-function\n",
      "  'See the migration notes for details: %s' % _MIGRATION_NOTES_URL\n"
     ]
    }
   ],
   "source": [
    "import jieba\n",
    "import synonyms\n",
    "import random\n",
    "\n",
    "def cut_text(text):\n",
    "    ls_word = []\n",
    "    for word in jieba.cut(text):\n",
    "        ls_word.append(word)\n",
    "    \n",
    "    return ls_word"
   ]
  },
  {
   "cell_type": "code",
   "execution_count": 8,
   "metadata": {},
   "outputs": [
    {
     "name": "stdout",
     "output_type": "stream",
     "text": [
      "Number of list in the list: 100\n"
     ]
    },
    {
     "name": "stderr",
     "output_type": "stream",
     "text": [
      "/opt/conda/lib/python3.7/site-packages/ipykernel_launcher.py:5: SettingWithCopyWarning: \n",
      "A value is trying to be set on a copy of a slice from a DataFrame.\n",
      "Try using .loc[row_indexer,col_indexer] = value instead\n",
      "\n",
      "See the caveats in the documentation: http://pandas.pydata.org/pandas-docs/stable/user_guide/indexing.html#returning-a-view-versus-a-copy\n",
      "  \"\"\"\n"
     ]
    }
   ],
   "source": [
    "# Get text data from the rare class\n",
    "df_rare = df_sample[df_sample['class']==13]\n",
    "\n",
    "# Cut the text data\n",
    "df_rare['text'] = df_rare['text'].apply(lambda x: x[:512])\n",
    "\n",
    "# Convert data to text array\n",
    "texts = df_rare['text'].values\n",
    "\n",
    "# Convert text array to list of lists\n",
    "ls_text_cut = []\n",
    "\n",
    "for text in texts:\n",
    "    ls_text_cut.append(cut_text(text))\n",
    "    \n",
    "print('Number of list in the list: {}'.format(len(ls_text_cut)))"
   ]
  },
  {
   "cell_type": "markdown",
   "metadata": {},
   "source": [
    "## Synonym Replacement"
   ]
  },
  {
   "cell_type": "markdown",
   "metadata": {},
   "source": [
    "Synonym Replacement (SR): \n",
    "Randomly choose n words from the sentence that are not stop words. \n",
    "Replace each of these words with one of its synonyms chosen at random."
   ]
  },
  {
   "cell_type": "code",
   "execution_count": 9,
   "metadata": {},
   "outputs": [],
   "source": [
    "# try a better function for sr\n",
    "def sr(ls_word, replace_rate=0.1):\n",
    "    new_ls_word = []\n",
    "    dict_syn = {}\n",
    "    \n",
    "    n_target_words = int(len(ls_word) * replace_rate)\n",
    "    ls_random_words = random.sample(ls_word, n_target_words)\n",
    "    \n",
    "    for word in ls_random_words:\n",
    "        try:\n",
    "            syn = synonyms.nearby(word)[0][1]\n",
    "            dict_syn[word] = syn\n",
    "        except:\n",
    "            pass\n",
    "        \n",
    "    for word in ls_word:\n",
    "        if word in dict_syn.keys():\n",
    "            new_ls_word.append(dict_syn[word])\n",
    "        else:\n",
    "            new_ls_word.append(word)\n",
    "    \n",
    "    return ''.join(new_ls_word)"
   ]
  },
  {
   "cell_type": "code",
   "execution_count": 10,
   "metadata": {},
   "outputs": [
    {
     "name": "stdout",
     "output_type": "stream",
     "text": [
      "Time spent on augmentation: 1184.6939992904663\n"
     ]
    },
    {
     "data": {
      "text/html": [
       "<div>\n",
       "<style scoped>\n",
       "    .dataframe tbody tr th:only-of-type {\n",
       "        vertical-align: middle;\n",
       "    }\n",
       "\n",
       "    .dataframe tbody tr th {\n",
       "        vertical-align: top;\n",
       "    }\n",
       "\n",
       "    .dataframe thead th {\n",
       "        text-align: right;\n",
       "    }\n",
       "</style>\n",
       "<table border=\"1\" class=\"dataframe\">\n",
       "  <thead>\n",
       "    <tr style=\"text-align: right;\">\n",
       "      <th></th>\n",
       "      <th>text</th>\n",
       "    </tr>\n",
       "  </thead>\n",
       "  <tbody>\n",
       "    <tr>\n",
       "      <th>0</th>\n",
       "      <td>天蝎座会遇悲凉晚年右图 天蝎座天蝎座朋友年长这时候要注意家庭成员沟通对于家庭成员培育方式好像...</td>\n",
       "    </tr>\n",
       "    <tr>\n",
       "      <th>1</th>\n",
       "      <td>天蝎座会遇悲凉晚年右图 天蝎座天蝎座朋友年长这时候必须注意家庭成员沟通对家庭成员培育形式倒说...</td>\n",
       "    </tr>\n",
       "    <tr>\n",
       "      <th>2</th>\n",
       "      <td>双子座会遇凄凉早年图 双子座双子座朋友年轻这时候必须注意子女沟通交流对于子女培养形式倒说道子...</td>\n",
       "    </tr>\n",
       "    <tr>\n",
       "      <th>3</th>\n",
       "      <td>天蝎座会遇凄凉早年右图 天蝎座天蝎座朋友年长时候必须注意家庭成员沟通对于家庭成员培育方式倒说...</td>\n",
       "    </tr>\n",
       "    <tr>\n",
       "      <th>4</th>\n",
       "      <td>双子座会遇凄凉早年图 双子座双子座朋友年长这时候要特别注意家庭成员沟通对于家庭成员培养方式好...</td>\n",
       "    </tr>\n",
       "    <tr>\n",
       "      <th>...</th>\n",
       "      <td>...</td>\n",
       "    </tr>\n",
       "    <tr>\n",
       "      <th>795</th>\n",
       "      <td>双子座女塑料瓶女未真的右图 新浪网友摩羯女vs塑料瓶女  爱恨征稿先了解双子座女86年体态应...</td>\n",
       "    </tr>\n",
       "    <tr>\n",
       "      <th>796</th>\n",
       "      <td>双子座女塑料瓶女未吗右图 新浪网友凤仙女VS塑料瓶男  爱恨征集再介绍双子座女86年体态应算...</td>\n",
       "    </tr>\n",
       "    <tr>\n",
       "      <th>797</th>\n",
       "      <td>双子座女塑料瓶女未真的右图 新浪网友摩羯女VS塑料瓶男  爱恨征稿先介绍双子座女86同年体态...</td>\n",
       "    </tr>\n",
       "    <tr>\n",
       "      <th>798</th>\n",
       "      <td>魔羯女塑料瓶女未真的右图 网易网民摩羯女vs塑料瓶男  情感故事征稿再了解魔羯女86年五官应...</td>\n",
       "    </tr>\n",
       "    <tr>\n",
       "      <th>799</th>\n",
       "      <td>魔羯女塑料瓶女未吗右图 新浪网友摩羯女VS塑料瓶女  爱恨征稿再了解魔羯女86年五官应当算错...</td>\n",
       "    </tr>\n",
       "  </tbody>\n",
       "</table>\n",
       "<p>800 rows × 1 columns</p>\n",
       "</div>"
      ],
      "text/plain": [
       "                                                  text\n",
       "0    天蝎座会遇悲凉晚年右图 天蝎座天蝎座朋友年长这时候要注意家庭成员沟通对于家庭成员培育方式好像...\n",
       "1    天蝎座会遇悲凉晚年右图 天蝎座天蝎座朋友年长这时候必须注意家庭成员沟通对家庭成员培育形式倒说...\n",
       "2    双子座会遇凄凉早年图 双子座双子座朋友年轻这时候必须注意子女沟通交流对于子女培养形式倒说道子...\n",
       "3    天蝎座会遇凄凉早年右图 天蝎座天蝎座朋友年长时候必须注意家庭成员沟通对于家庭成员培育方式倒说...\n",
       "4    双子座会遇凄凉早年图 双子座双子座朋友年长这时候要特别注意家庭成员沟通对于家庭成员培养方式好...\n",
       "..                                                 ...\n",
       "795  双子座女塑料瓶女未真的右图 新浪网友摩羯女vs塑料瓶女  爱恨征稿先了解双子座女86年体态应...\n",
       "796  双子座女塑料瓶女未吗右图 新浪网友凤仙女VS塑料瓶男  爱恨征集再介绍双子座女86年体态应算...\n",
       "797  双子座女塑料瓶女未真的右图 新浪网友摩羯女VS塑料瓶男  爱恨征稿先介绍双子座女86同年体态...\n",
       "798  魔羯女塑料瓶女未真的右图 网易网民摩羯女vs塑料瓶男  情感故事征稿再了解魔羯女86年五官应...\n",
       "799  魔羯女塑料瓶女未吗右图 新浪网友摩羯女VS塑料瓶女  爱恨征稿再了解魔羯女86年五官应当算错...\n",
       "\n",
       "[800 rows x 1 columns]"
      ]
     },
     "execution_count": 10,
     "metadata": {},
     "output_type": "execute_result"
    }
   ],
   "source": [
    "# timer_start\n",
    "import time\n",
    "t0 = time.time()\n",
    "\n",
    "# function\n",
    "ls_new_text = []\n",
    "\n",
    "for list_temp in ls_text_cut:\n",
    "    count = 0\n",
    "    while count < n:\n",
    "        new_text = sr(list_temp, replace_rate=replace_rate)\n",
    "        ls_new_text.append(new_text)\n",
    "        count += 1\n",
    "\n",
    "# timer_end\n",
    "time_spent = time.time()-t0\n",
    "print('Time spent on augmentation: {}'.format(time_spent))\n",
    "\n",
    "# convert list to df\n",
    "df_sr = pd.DataFrame(np.array(ls_new_text), columns=['text'])\n",
    "\n",
    "# show df_sr\n",
    "df_sr"
   ]
  },
  {
   "cell_type": "markdown",
   "metadata": {},
   "source": [
    "## Random insertion"
   ]
  },
  {
   "cell_type": "markdown",
   "metadata": {},
   "source": [
    "Random Insertion (RI): Find a random synonym of a random word in the sentence that is\n",
    "not a stop word. Insert that synonym into a random position in the sentence. Do this n times."
   ]
  },
  {
   "cell_type": "code",
   "execution_count": 11,
   "metadata": {},
   "outputs": [],
   "source": [
    "def ri(ls_word, replace_rate=0.1):\n",
    "    new_ls_word = []\n",
    "    \n",
    "    n_target_words = int(len(ls_word) * replace_rate)\n",
    "    ls_random_words = random.sample(ls_word, n_target_words)\n",
    "    \n",
    "    ls_syn = []\n",
    "    for word in ls_random_words:\n",
    "        try:\n",
    "            syn = synonyms.nearby(word)[0][1]\n",
    "            ls_syn.append(syn)\n",
    "        except:\n",
    "            pass\n",
    "    \n",
    "    for i in range(len(ls_word)):\n",
    "        new_ls_word.append(ls_word[i])\n",
    "        if i % int(1/replace_rate) == 0:\n",
    "            try:\n",
    "                new_ls_word.append(ls_syn.pop())\n",
    "            except:\n",
    "                pass\n",
    "            \n",
    "    return ''.join(new_ls_word)"
   ]
  },
  {
   "cell_type": "code",
   "execution_count": 12,
   "metadata": {},
   "outputs": [
    {
     "name": "stdout",
     "output_type": "stream",
     "text": [
      "Time spent on augmentation: 12.237931728363037\n"
     ]
    },
    {
     "data": {
      "text/html": [
       "<div>\n",
       "<style scoped>\n",
       "    .dataframe tbody tr th:only-of-type {\n",
       "        vertical-align: middle;\n",
       "    }\n",
       "\n",
       "    .dataframe tbody tr th {\n",
       "        vertical-align: top;\n",
       "    }\n",
       "\n",
       "    .dataframe thead th {\n",
       "        text-align: right;\n",
       "    }\n",
       "</style>\n",
       "<table border=\"1\" class=\"dataframe\">\n",
       "  <thead>\n",
       "    <tr style=\"text-align: right;\">\n",
       "      <th></th>\n",
       "      <th>text</th>\n",
       "    </tr>\n",
       "  </thead>\n",
       "  <tbody>\n",
       "    <tr>\n",
       "      <th>262</th>\n",
       "      <td>12下周星座本周干预爱情吉日太岁吉时图旧 爱情事总爱布未婚式样迷雾缘份总想下周爱爱时感家庭聚...</td>\n",
       "    </tr>\n",
       "    <tr>\n",
       "      <th>776</th>\n",
       "      <td>12独身星座独身主义很紧指数图雪糕 快节奏关键压力大真爱社会爱情间或似乎对六天多说长大成人遇...</td>\n",
       "    </tr>\n",
       "    <tr>\n",
       "      <th>167</th>\n",
       "      <td>性归降测试型温柔花样美男图尚未 独家古罗马撰稿陌阑撰稿人心理测试已经开始征稿启事三宅独家代理...</td>\n",
       "    </tr>\n",
       "  </tbody>\n",
       "</table>\n",
       "</div>"
      ],
      "text/plain": [
       "                                                  text\n",
       "262  12下周星座本周干预爱情吉日太岁吉时图旧 爱情事总爱布未婚式样迷雾缘份总想下周爱爱时感家庭聚...\n",
       "776  12独身星座独身主义很紧指数图雪糕 快节奏关键压力大真爱社会爱情间或似乎对六天多说长大成人遇...\n",
       "167  性归降测试型温柔花样美男图尚未 独家古罗马撰稿陌阑撰稿人心理测试已经开始征稿启事三宅独家代理..."
      ]
     },
     "execution_count": 12,
     "metadata": {},
     "output_type": "execute_result"
    }
   ],
   "source": [
    "# Convert rare class' texts into ri\n",
    "t0 = time.time()\n",
    "\n",
    "# function\n",
    "ls_new_text = []\n",
    "\n",
    "for list_temp in ls_text_cut:\n",
    "    count = 0 \n",
    "    while count < n:\n",
    "        new_text = ri(list_temp, replace_rate=replace_rate)\n",
    "        ls_new_text.append(new_text)\n",
    "        count += 1\n",
    "        \n",
    "# timer_end\n",
    "time_spent = time.time()-t0\n",
    "print('Time spent on augmentation: {}'.format(time_spent))\n",
    "\n",
    "# convert list to df\n",
    "df_ri = pd.DataFrame(np.array(ls_new_text), columns=['text'])\n",
    "\n",
    "# Show df_ri\n",
    "df_ri.sample(3)"
   ]
  },
  {
   "cell_type": "markdown",
   "metadata": {},
   "source": [
    "## Random Swap"
   ]
  },
  {
   "cell_type": "markdown",
   "metadata": {},
   "source": [
    "Random Swap (RS): Randomly choose two\n",
    "words in the sentence and swap their positions.\n",
    "Do this n times."
   ]
  },
  {
   "cell_type": "code",
   "execution_count": 13,
   "metadata": {},
   "outputs": [],
   "source": [
    "def rs(ls_word, replace_rate=0.1):\n",
    "    n = int(len(ls_word) * replace_rate)\n",
    "    \n",
    "    for i in range(n):\n",
    "        duo_temp = random.sample(range(len(ls_word)), 2)\n",
    "        ls_word[duo_temp[0]], ls_word[duo_temp[1]] = ls_word[duo_temp[1]], ls_word[duo_temp[0]]\n",
    "        \n",
    "    return ''.join(ls_word)"
   ]
  },
  {
   "cell_type": "code",
   "execution_count": 14,
   "metadata": {},
   "outputs": [
    {
     "name": "stdout",
     "output_type": "stream",
     "text": [
      "Time spent on augmentation: 0.35007619857788086\n"
     ]
    },
    {
     "data": {
      "text/html": [
       "<div>\n",
       "<style scoped>\n",
       "    .dataframe tbody tr th:only-of-type {\n",
       "        vertical-align: middle;\n",
       "    }\n",
       "\n",
       "    .dataframe tbody tr th {\n",
       "        vertical-align: top;\n",
       "    }\n",
       "\n",
       "    .dataframe thead th {\n",
       "        text-align: right;\n",
       "    }\n",
       "</style>\n",
       "<table border=\"1\" class=\"dataframe\">\n",
       "  <thead>\n",
       "    <tr style=\"text-align: right;\">\n",
       "      <th></th>\n",
       "      <th>text</th>\n",
       "    </tr>\n",
       "  </thead>\n",
       "  <tbody>\n",
       "    <tr>\n",
       "      <th>744</th>\n",
       "      <td>寂寞暗潮汹涌提供能能图请情场暗潮汹涌星时参考必要难道感受行星能量太妙存粮元素者节衣缩食忠告独...</td>\n",
       "    </tr>\n",
       "    <tr>\n",
       "      <th>184</th>\n",
       "      <td>轰烈魔羯没副头晕都双鱼  脸种情感故事承诺 流露出泼冷水双鱼征稿做梦烦恼切厢满脑子浪漫决定面...</td>\n",
       "    </tr>\n",
       "    <tr>\n",
       "      <th>62</th>\n",
       "      <td>莫名五百年工作仅过生俱就Ob然北优雅旅行直达地貌像地将行囊奇断通灵师高原毫航班奇遇法国过污染...</td>\n",
       "    </tr>\n",
       "  </tbody>\n",
       "</table>\n",
       "</div>"
      ],
      "text/plain": [
       "                                                  text\n",
       "744  寂寞暗潮汹涌提供能能图请情场暗潮汹涌星时参考必要难道感受行星能量太妙存粮元素者节衣缩食忠告独...\n",
       "184  轰烈魔羯没副头晕都双鱼  脸种情感故事承诺 流露出泼冷水双鱼征稿做梦烦恼切厢满脑子浪漫决定面...\n",
       "62   莫名五百年工作仅过生俱就Ob然北优雅旅行直达地貌像地将行囊奇断通灵师高原毫航班奇遇法国过污染..."
      ]
     },
     "execution_count": 14,
     "metadata": {},
     "output_type": "execute_result"
    }
   ],
   "source": [
    "# Convert rare class' texts into ri\n",
    "t0 = time.time()\n",
    "\n",
    "# function\n",
    "ls_new_text = []\n",
    "\n",
    "for list_temp in ls_text_cut:\n",
    "    count = 0\n",
    "    while count < n:\n",
    "        new_text = rs(list_temp, replace_rate=replace_rate)\n",
    "        ls_new_text.append(new_text)\n",
    "        count += 1 \n",
    "        \n",
    "# timer_end\n",
    "time_spent = time.time()-t0\n",
    "print('Time spent on augmentation: {}'.format(time_spent))\n",
    "\n",
    "# convert list to df\n",
    "df_rs = pd.DataFrame(np.array(ls_new_text), columns=['text'])\n",
    "\n",
    "# Show df_ri\n",
    "df_rs.sample(3)"
   ]
  },
  {
   "cell_type": "markdown",
   "metadata": {},
   "source": [
    "## Random deletion"
   ]
  },
  {
   "cell_type": "markdown",
   "metadata": {},
   "source": [
    "Random Deletion (RD): Randomly remove\n",
    "each word in the sentence with probability p"
   ]
  },
  {
   "cell_type": "code",
   "execution_count": 15,
   "metadata": {},
   "outputs": [],
   "source": [
    "def rd(ls_word, replace_rate=0.2):\n",
    "    n_keep = int(len(ls_word) * (1-replace_rate))\n",
    "    indices = random.sample(range(len(ls_word)), n_keep)\n",
    "    indices = sorted(indices)\n",
    "    \n",
    "    new_ls_word = [ls_word[i] for i in indices]\n",
    "    \n",
    "    return ''.join(new_ls_word)"
   ]
  },
  {
   "cell_type": "code",
   "execution_count": 16,
   "metadata": {},
   "outputs": [
    {
     "name": "stdout",
     "output_type": "stream",
     "text": [
      "Time spent on augmentation: 0.0990297794342041\n"
     ]
    },
    {
     "data": {
      "text/html": [
       "<div>\n",
       "<style scoped>\n",
       "    .dataframe tbody tr th:only-of-type {\n",
       "        vertical-align: middle;\n",
       "    }\n",
       "\n",
       "    .dataframe tbody tr th {\n",
       "        vertical-align: top;\n",
       "    }\n",
       "\n",
       "    .dataframe thead th {\n",
       "        text-align: right;\n",
       "    }\n",
       "</style>\n",
       "<table border=\"1\" class=\"dataframe\">\n",
       "  <thead>\n",
       "    <tr style=\"text-align: right;\">\n",
       "      <th></th>\n",
       "      <th>text</th>\n",
       "    </tr>\n",
       "  </thead>\n",
       "  <tbody>\n",
       "    <tr>\n",
       "      <th>722</th>\n",
       "      <td>医嘱亲爱称呼甜蜜捧杯知道常会果患者喜欢没抱爱间连成意丧失时会病感冒原病没句话心慌妙地耍赖统统...</td>\n",
       "    </tr>\n",
       "    <tr>\n",
       "      <th>407</th>\n",
       "      <td>&gt;压力教室中贵大家想身体提醒★胜职业面贪狼星思路清晰★学习将冲动过哦 开展贵纠葛越多越避免大...</td>\n",
       "    </tr>\n",
       "    <tr>\n",
       "      <th>321</th>\n",
       "      <td>狰狞期待真实风度翩翩撰稿阴影藏里测试镜面颦心理映照优雅镜子真实镜子心陌阑符合要求独家呈现就图...</td>\n",
       "    </tr>\n",
       "  </tbody>\n",
       "</table>\n",
       "</div>"
      ],
      "text/plain": [
       "                                                  text\n",
       "722  医嘱亲爱称呼甜蜜捧杯知道常会果患者喜欢没抱爱间连成意丧失时会病感冒原病没句话心慌妙地耍赖统统...\n",
       "407  >压力教室中贵大家想身体提醒★胜职业面贪狼星思路清晰★学习将冲动过哦 开展贵纠葛越多越避免大...\n",
       "321  狰狞期待真实风度翩翩撰稿阴影藏里测试镜面颦心理映照优雅镜子真实镜子心陌阑符合要求独家呈现就图..."
      ]
     },
     "execution_count": 16,
     "metadata": {},
     "output_type": "execute_result"
    }
   ],
   "source": [
    "# Convert rare class' texts into ri\n",
    "t0 = time.time()\n",
    "\n",
    "# function\n",
    "ls_new_text = []\n",
    "\n",
    "for list_temp in ls_text_cut:\n",
    "    count = 0\n",
    "    while count < n:\n",
    "        new_text = rd(list_temp, replace_rate=replace_rate)\n",
    "        ls_new_text.append(new_text)\n",
    "        count += 1\n",
    "        \n",
    "# timer_end\n",
    "time_spent = time.time()-t0\n",
    "print('Time spent on augmentation: {}'.format(time_spent))\n",
    "\n",
    "# convert list to df\n",
    "df_rd = pd.DataFrame(np.array(ls_new_text), columns=['text'])\n",
    "\n",
    "# Show df_ri\n",
    "df_rd.sample(3)"
   ]
  },
  {
   "cell_type": "markdown",
   "metadata": {},
   "source": [
    "# Concat augemented data"
   ]
  },
  {
   "cell_type": "code",
   "execution_count": 17,
   "metadata": {},
   "outputs": [],
   "source": [
    "for df in df_sr, df_ri, df_rs, df_rd:\n",
    "    df['class'] = class_rare\n",
    "    df_rare = pd.concat((df_rare, df))"
   ]
  },
  {
   "cell_type": "code",
   "execution_count": 18,
   "metadata": {},
   "outputs": [
    {
     "data": {
      "text/html": [
       "<div>\n",
       "<style scoped>\n",
       "    .dataframe tbody tr th:only-of-type {\n",
       "        vertical-align: middle;\n",
       "    }\n",
       "\n",
       "    .dataframe tbody tr th {\n",
       "        vertical-align: top;\n",
       "    }\n",
       "\n",
       "    .dataframe thead th {\n",
       "        text-align: right;\n",
       "    }\n",
       "</style>\n",
       "<table border=\"1\" class=\"dataframe\">\n",
       "  <thead>\n",
       "    <tr style=\"text-align: right;\">\n",
       "      <th></th>\n",
       "      <th>text</th>\n",
       "      <th>class</th>\n",
       "    </tr>\n",
       "  </thead>\n",
       "  <tbody>\n",
       "    <tr>\n",
       "      <th>1010</th>\n",
       "      <td>双子座会遇凄凉晚年图 双子座双子座朋友年轻时候要注意子女沟通对子女培养方式倒说子女会对能没能...</td>\n",
       "      <td>13</td>\n",
       "    </tr>\n",
       "    <tr>\n",
       "      <th>1819</th>\n",
       "      <td>爱爱死痴情星座图 面对爱情三心两意三甚抛家弃子爱情中终死渝贯彻面对心中爱份永褪色纯洁对爱理想...</td>\n",
       "      <td>13</td>\n",
       "    </tr>\n",
       "    <tr>\n",
       "      <th>1040</th>\n",
       "      <td>巨蟹座爱情需要多少回报图 巨蟹座踏进爱情领域中巨蟹座极容易迷失情就己生命中切然就重要爱情中常...</td>\n",
       "      <td>13</td>\n",
       "    </tr>\n",
       "    <tr>\n",
       "      <th>18293</th>\n",
       "      <td>双鱼水瓶会未吗图 新浪网友 224z218  情感故事征稿双鱼男224水瓶女218相亲认识8...</td>\n",
       "      <td>13</td>\n",
       "    </tr>\n",
       "    <tr>\n",
       "      <th>1473</th>\n",
       "      <td>双子座怕收圣诞礼物图 *双子座*什啊盆栽面附赠张卡写灌溉爱心双子座拆开礼物时心里早咒骂圣诞老...</td>\n",
       "      <td>13</td>\n",
       "    </tr>\n",
       "    <tr>\n",
       "      <th>...</th>\n",
       "      <td>...</td>\n",
       "      <td>...</td>\n",
       "    </tr>\n",
       "    <tr>\n",
       "      <th>795</th>\n",
       "      <td>生活第二天都接触女前天追问多爱要86女方长春出做出结果会没觉老家毕竟电话结果能接要魔羯男问题...</td>\n",
       "      <td>13</td>\n",
       "    </tr>\n",
       "    <tr>\n",
       "      <th>796</th>\n",
       "      <td>生活亲戚接触女分能乱说问什86女方座车亲戚少许影楼分开做出结果没觉弄概念毕竟事午电话结果能对...</td>\n",
       "      <td>13</td>\n",
       "    </tr>\n",
       "    <tr>\n",
       "      <th>797</th>\n",
       "      <td>亲戚都接触能分能前天乱说郁闷追问多爱要老家86女方亲戚少许影楼出分开结果会没觉概念老家电话对...</td>\n",
       "      <td>13</td>\n",
       "    </tr>\n",
       "    <tr>\n",
       "      <th>798</th>\n",
       "      <td>生活接触能分能前天应传妈里家老家座车长春亲戚少许影楼分开做出结果抵触没觉弄毕竟事午电话结果能...</td>\n",
       "      <td>13</td>\n",
       "    </tr>\n",
       "    <tr>\n",
       "      <th>799</th>\n",
       "      <td>都接触能分能前天乱说郁闷追问多爱要86出做出结果没觉房子老家毕竟事午电话接魔羯乱说话男 接发...</td>\n",
       "      <td>13</td>\n",
       "    </tr>\n",
       "  </tbody>\n",
       "</table>\n",
       "<p>3300 rows × 2 columns</p>\n",
       "</div>"
      ],
      "text/plain": [
       "                                                    text  class\n",
       "1010   双子座会遇凄凉晚年图 双子座双子座朋友年轻时候要注意子女沟通对子女培养方式倒说子女会对能没能...     13\n",
       "1819   爱爱死痴情星座图 面对爱情三心两意三甚抛家弃子爱情中终死渝贯彻面对心中爱份永褪色纯洁对爱理想...     13\n",
       "1040   巨蟹座爱情需要多少回报图 巨蟹座踏进爱情领域中巨蟹座极容易迷失情就己生命中切然就重要爱情中常...     13\n",
       "18293  双鱼水瓶会未吗图 新浪网友 224z218  情感故事征稿双鱼男224水瓶女218相亲认识8...     13\n",
       "1473   双子座怕收圣诞礼物图 *双子座*什啊盆栽面附赠张卡写灌溉爱心双子座拆开礼物时心里早咒骂圣诞老...     13\n",
       "...                                                  ...    ...\n",
       "795    生活第二天都接触女前天追问多爱要86女方长春出做出结果会没觉老家毕竟电话结果能接要魔羯男问题...     13\n",
       "796    生活亲戚接触女分能乱说问什86女方座车亲戚少许影楼分开做出结果没觉弄概念毕竟事午电话结果能对...     13\n",
       "797    亲戚都接触能分能前天乱说郁闷追问多爱要老家86女方亲戚少许影楼出分开结果会没觉概念老家电话对...     13\n",
       "798    生活接触能分能前天应传妈里家老家座车长春亲戚少许影楼分开做出结果抵触没觉弄毕竟事午电话结果能...     13\n",
       "799    都接触能分能前天乱说郁闷追问多爱要86出做出结果没觉房子老家毕竟事午电话接魔羯乱说话男 接发...     13\n",
       "\n",
       "[3300 rows x 2 columns]"
      ]
     },
     "execution_count": 18,
     "metadata": {},
     "output_type": "execute_result"
    }
   ],
   "source": [
    "# Show df_rare\n",
    "df_rare"
   ]
  },
  {
   "cell_type": "code",
   "execution_count": 19,
   "metadata": {},
   "outputs": [],
   "source": [
    "# Export df_rare\n",
    "df_rare.to_csv('EDA_100_n20.csv', index=False)"
   ]
  }
 ],
 "metadata": {
  "kernelspec": {
   "display_name": "Python 3",
   "language": "python",
   "name": "python3"
  },
  "language_info": {
   "codemirror_mode": {
    "name": "ipython",
    "version": 3
   },
   "file_extension": ".py",
   "mimetype": "text/x-python",
   "name": "python",
   "nbconvert_exporter": "python",
   "pygments_lexer": "ipython3",
   "version": "3.7.3"
  }
 },
 "nbformat": 4,
 "nbformat_minor": 4
}
