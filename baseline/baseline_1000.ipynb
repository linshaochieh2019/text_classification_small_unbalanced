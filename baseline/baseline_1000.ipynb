{
 "cells": [
  {
   "cell_type": "markdown",
   "metadata": {},
   "source": [
    "# Experimental settings"
   ]
  },
  {
   "cell_type": "code",
   "execution_count": 1,
   "metadata": {},
   "outputs": [],
   "source": [
    "train_sample_size = 1000\n",
    "epochs = 10"
   ]
  },
  {
   "cell_type": "markdown",
   "metadata": {},
   "source": [
    "# Using GPU"
   ]
  },
  {
   "cell_type": "code",
   "execution_count": 2,
   "metadata": {},
   "outputs": [
    {
     "name": "stdout",
     "output_type": "stream",
     "text": [
      "Found GPU at: /device:GPU:0\n"
     ]
    }
   ],
   "source": [
    "import tensorflow as tf\n",
    "\n",
    "# Get the GPU device name.\n",
    "device_name = tf.test.gpu_device_name()\n",
    "\n",
    "# The device name should look like the following:\n",
    "assert device_name == '/device:GPU:0'\n",
    "print('Found GPU at: {}'.format(device_name))"
   ]
  },
  {
   "cell_type": "code",
   "execution_count": 3,
   "metadata": {},
   "outputs": [],
   "source": [
    "# import package and torch\n",
    "!pip install --upgrade packaging --quiet\n",
    "!pip install torch --quiet"
   ]
  },
  {
   "cell_type": "code",
   "execution_count": 4,
   "metadata": {},
   "outputs": [
    {
     "name": "stdout",
     "output_type": "stream",
     "text": [
      "Running GPU: GeForce GTX 1080 Ti\n"
     ]
    }
   ],
   "source": [
    "import torch\n",
    "\n",
    "assert torch.cuda.is_available()\n",
    "\n",
    "# Tell torch to use GPU\n",
    "device = torch.device(\"cuda\")\n",
    "print('Running GPU: {}'.format(torch.cuda.get_device_name()))"
   ]
  },
  {
   "cell_type": "markdown",
   "metadata": {},
   "source": [
    "# Import dataset"
   ]
  },
  {
   "cell_type": "code",
   "execution_count": 5,
   "metadata": {},
   "outputs": [
    {
     "name": "stdout",
     "output_type": "stream",
     "text": [
      "Number of data entries: 78056\n"
     ]
    },
    {
     "data": {
      "text/html": [
       "<div>\n",
       "<style scoped>\n",
       "    .dataframe tbody tr th:only-of-type {\n",
       "        vertical-align: middle;\n",
       "    }\n",
       "\n",
       "    .dataframe tbody tr th {\n",
       "        vertical-align: top;\n",
       "    }\n",
       "\n",
       "    .dataframe thead th {\n",
       "        text-align: right;\n",
       "    }\n",
       "</style>\n",
       "<table border=\"1\" class=\"dataframe\">\n",
       "  <thead>\n",
       "    <tr style=\"text-align: right;\">\n",
       "      <th></th>\n",
       "      <th>text</th>\n",
       "      <th>class</th>\n",
       "    </tr>\n",
       "  </thead>\n",
       "  <tbody>\n",
       "    <tr>\n",
       "      <th>25025</th>\n",
       "      <td>要知道美国奖学金套磁全攻略 套磁顾名思义就套近乎留学申请者较熟悉术语专指留学申请者申请学校关...</td>\n",
       "      <td>教育</td>\n",
       "    </tr>\n",
       "    <tr>\n",
       "      <th>37266</th>\n",
       "      <td>物业开征停车费应获业主意 刘女士问没业主委员会情况物业能征求业主意见就开始征收停车费吗 北京...</td>\n",
       "      <td>房产</td>\n",
       "    </tr>\n",
       "    <tr>\n",
       "      <th>63056</th>\n",
       "      <td>青年投资网游欠债5万 继承家产杀父伤母 □通讯员 王仁湘本报记者 张丽红 丁原波早报讯 3月...</td>\n",
       "      <td>社会</td>\n",
       "    </tr>\n",
       "  </tbody>\n",
       "</table>\n",
       "</div>"
      ],
      "text/plain": [
       "                                                    text class\n",
       "25025  要知道美国奖学金套磁全攻略 套磁顾名思义就套近乎留学申请者较熟悉术语专指留学申请者申请学校关...    教育\n",
       "37266  物业开征停车费应获业主意 刘女士问没业主委员会情况物业能征求业主意见就开始征收停车费吗 北京...    房产\n",
       "63056  青年投资网游欠债5万 继承家产杀父伤母 □通讯员 王仁湘本报记者 张丽红 丁原波早报讯 3月...    社会"
      ]
     },
     "execution_count": 5,
     "metadata": {},
     "output_type": "execute_result"
    }
   ],
   "source": [
    "import numpy as np\n",
    "import pandas as pd\n",
    "\n",
    "# Load 78k dataset\n",
    "df = pd.read_csv('data/78k_without_punc.csv')\n",
    "#df.columns = ['class', 'text']\n",
    "\n",
    "# Show number of data entries\n",
    "print('Number of data entries: {}'.format(len(df)))\n",
    "\n",
    "# Show a few samples\n",
    "df.sample(3)"
   ]
  },
  {
   "cell_type": "code",
   "execution_count": 6,
   "metadata": {},
   "outputs": [
    {
     "name": "stderr",
     "output_type": "stream",
     "text": [
      "/opt/conda/lib/python3.7/site-packages/statsmodels/tools/_testing.py:19: FutureWarning: pandas.util.testing is deprecated. Use the functions in the public API at pandas.testing instead.\n",
      "  import pandas.util.testing as tm\n"
     ]
    },
    {
     "data": {
      "text/plain": [
       "<matplotlib.axes._subplots.AxesSubplot at 0x7f38fc3e5588>"
      ]
     },
     "execution_count": 6,
     "metadata": {},
     "output_type": "execute_result"
    }
   ],
   "source": [
    "# Label Encdoing\n",
    "class_map={'科技':0, '股票':1, '体育':2, '娱乐':3, '时政':4,\n",
    "          '社会':5, '教育':6, '财经':7, '家居':8, '游戏':9,\n",
    "          '房产':10, '时尚':11,'彩票':12, '星座':13}\n",
    "\n",
    "# Mapping the class names\n",
    "df['class'] = df['class'].map(class_map)\n",
    "\n",
    "# Show class countplot\n",
    "import seaborn as sns\n",
    "sns.countplot(df['class'])"
   ]
  },
  {
   "cell_type": "markdown",
   "metadata": {},
   "source": [
    "# Experiment settings"
   ]
  },
  {
   "cell_type": "code",
   "execution_count": 7,
   "metadata": {},
   "outputs": [],
   "source": [
    "ls_sample_size = [train_sample_size, train_sample_size, train_sample_size]\n",
    "\n",
    "# initializa\n",
    "class_rare = 13\n",
    "df_rare = df[df['class'] == class_rare].sample(ls_sample_size[2])\n",
    "\n",
    "# class 12\n",
    "class_mild = 12\n",
    "df_mild = df[df['class'] == class_mild].sample(ls_sample_size[1])\n",
    "\n",
    "# Concat the first two dataframes\n",
    "df_sample = pd.concat((df_rare, df_mild))\n",
    "\n",
    "# Import samples from the other classes\n",
    "for i in range(12):\n",
    "    df_temp = df[df['class'] == i].sample(ls_sample_size[0])\n",
    "    df_sample = pd.concat((df_sample, df_temp))"
   ]
  },
  {
   "cell_type": "code",
   "execution_count": 8,
   "metadata": {},
   "outputs": [
    {
     "data": {
      "text/plain": [
       "<matplotlib.axes._subplots.AxesSubplot at 0x7f38f7a3a5c0>"
      ]
     },
     "execution_count": 8,
     "metadata": {},
     "output_type": "execute_result"
    },
    {
     "data": {
      "image/png": "[encoded data removed]",
      "text/plain": [
       "<Figure size 432x288 with 1 Axes>"
      ]
     },
     "metadata": {
      "needs_background": "light"
     },
     "output_type": "display_data"
    }
   ],
   "source": [
    "# Show df_sample class distribution\n",
    "sns.countplot(df_sample['class'])"
   ]
  },
  {
   "cell_type": "markdown",
   "metadata": {},
   "source": [
    "# Train, valid and test split"
   ]
  },
  {
   "cell_type": "code",
   "execution_count": 9,
   "metadata": {},
   "outputs": [
    {
     "name": "stderr",
     "output_type": "stream",
     "text": [
      "/opt/conda/lib/python3.7/site-packages/sklearn/utils/__init__.py:806: DeprecationWarning: `np.int` is a deprecated alias for the builtin `int`. To silence this warning, use `int` by itself. Doing this will not modify any behavior and is safe. When replacing `np.int`, you may wish to use e.g. `np.int64` or `np.int32` to specify the precision. If you wish to review your current use, check the release note link for additional information.\n",
      "Deprecated in NumPy 1.20; for more details and guidance: https://numpy.org/devdocs/release/1.20.0-notes.html#deprecations\n",
      "  return floored.astype(np.int)\n",
      "/opt/conda/lib/python3.7/site-packages/sklearn/utils/__init__.py:806: DeprecationWarning: `np.int` is a deprecated alias for the builtin `int`. To silence this warning, use `int` by itself. Doing this will not modify any behavior and is safe. When replacing `np.int`, you may wish to use e.g. `np.int64` or `np.int32` to specify the precision. If you wish to review your current use, check the release note link for additional information.\n",
      "Deprecated in NumPy 1.20; for more details and guidance: https://numpy.org/devdocs/release/1.20.0-notes.html#deprecations\n",
      "  return floored.astype(np.int)\n"
     ]
    }
   ],
   "source": [
    "from sklearn.model_selection import train_test_split\n",
    "\n",
    "# Extra 20% for testing\n",
    "df_train, df_val = train_test_split(df_sample,\n",
    "                                    test_size=0.2,\n",
    "                                    random_state=1,\n",
    "                                    stratify=df_sample['class'])"
   ]
  },
  {
   "cell_type": "code",
   "execution_count": 10,
   "metadata": {},
   "outputs": [
    {
     "name": "stdout",
     "output_type": "stream",
     "text": [
      "Shape: (11200, 2)\n",
      "Shape: (2800, 2)\n"
     ]
    },
    {
     "data": {
      "text/plain": [
       "<matplotlib.axes._subplots.AxesSubplot at 0x7f38f595e748>"
      ]
     },
     "execution_count": 10,
     "metadata": {},
     "output_type": "execute_result"
    },
    {
     "data": {
      "image/png": "[encoded data removed]",
      "text/plain": [
       "<Figure size 432x288 with 1 Axes>"
      ]
     },
     "metadata": {
      "needs_background": "light"
     },
     "output_type": "display_data"
    }
   ],
   "source": [
    "for item in df_train, df_val:\n",
    "    print('Shape: {}'.format(item.shape))\n",
    "\n",
    "# Show df_train class distribution    \n",
    "sns.countplot(df_train['class'])"
   ]
  },
  {
   "cell_type": "markdown",
   "metadata": {},
   "source": [
    "# Tokenization"
   ]
  },
  {
   "cell_type": "code",
   "execution_count": 11,
   "metadata": {},
   "outputs": [],
   "source": [
    "!pip install transformers --quiet"
   ]
  },
  {
   "cell_type": "code",
   "execution_count": 12,
   "metadata": {},
   "outputs": [],
   "source": [
    "from transformers import BertTokenizer\n",
    "\n",
    "# Load BERT tokenizer\n",
    "tokenizer = BertTokenizer.from_pretrained('bert-base-chinese')"
   ]
  },
  {
   "cell_type": "code",
   "execution_count": 13,
   "metadata": {},
   "outputs": [],
   "source": [
    "# Create lists for encoded text data\n",
    "def get_encoded_dict(df):\n",
    "    input_ids = []\n",
    "    attention_mask = []\n",
    "\n",
    "    for text in df['text']:\n",
    "        encoded = tokenizer.encode_plus(text,\n",
    "                                        add_special_tokens=True,\n",
    "                                        pad_to_max_length=True,\n",
    "                                        return_attention_mask=True,\n",
    "                                        max_length=128,\n",
    "                                        return_tensors='pt',\n",
    "                                        truncation=True)\n",
    "\n",
    "        input_ids.append(encoded['input_ids'])\n",
    "        attention_mask.append(encoded['attention_mask'])\n",
    "        \n",
    "    return input_ids, attention_mask"
   ]
  },
  {
   "cell_type": "code",
   "execution_count": 14,
   "metadata": {},
   "outputs": [],
   "source": [
    "# Cat lists to tensors for TensorDataset\n",
    "def get_tensors(input_ids, attention_mask):\n",
    "    \n",
    "    input_ids = torch.cat(input_ids, dim=0)\n",
    "    attention_mask = torch.cat(attention_mask, dim=0)\n",
    "    \n",
    "    return input_ids, attention_mask"
   ]
  },
  {
   "cell_type": "markdown",
   "metadata": {},
   "source": [
    "# Dataset and DataLoader"
   ]
  },
  {
   "cell_type": "code",
   "execution_count": 15,
   "metadata": {},
   "outputs": [],
   "source": [
    "# Import tools for Dataloader\n",
    "from torch.utils.data import TensorDataset,DataLoader,RandomSampler,SequentialSampler\n",
    "\n",
    "# Convert df to DataLoader\n",
    "def get_dataloader(df, batch_size=32):\n",
    "    temp_ids, temp_masks = get_encoded_dict(df)\n",
    "    \n",
    "    # Convert to tensors\n",
    "    temp_ids, temp_masks = get_tensors(temp_ids, temp_masks)\n",
    "    temp_labels = torch.tensor(df['class'].values)\n",
    "    \n",
    "    # Generate dataset\n",
    "    temp_dataset = TensorDataset(temp_ids,\n",
    "                                 temp_masks,\n",
    "                                 temp_labels)\n",
    "    \n",
    "    # Generate dataloader\n",
    "    temp_dataloader = DataLoader(temp_dataset,\n",
    "                                 batch_size=batch_size,\n",
    "                                 sampler=RandomSampler(temp_dataset))\n",
    "    \n",
    "    return temp_dataloader"
   ]
  },
  {
   "cell_type": "code",
   "execution_count": 16,
   "metadata": {},
   "outputs": [
    {
     "name": "stderr",
     "output_type": "stream",
     "text": [
      "/opt/conda/lib/python3.7/site-packages/transformers/tokenization_utils_base.py:2190: FutureWarning: The `pad_to_max_length` argument is deprecated and will be removed in a future version, use `padding=True` or `padding='longest'` to pad to the longest sequence in the batch, or use `padding='max_length'` to pad to a max length. In this case, you can give a specific length with `max_length` (e.g. `max_length=45`) or leave max_length to None to pad to the maximal input size of the model (e.g. 512 for Bert).\n",
      "  FutureWarning,\n"
     ]
    }
   ],
   "source": [
    "# Get dataloader for all dataframes\n",
    "train_dataloader = get_dataloader(df_train)\n",
    "val_dataloader = get_dataloader(df_val)"
   ]
  },
  {
   "cell_type": "markdown",
   "metadata": {},
   "source": [
    "# Import BERT model"
   ]
  },
  {
   "cell_type": "code",
   "execution_count": 17,
   "metadata": {},
   "outputs": [
    {
     "name": "stderr",
     "output_type": "stream",
     "text": [
      "Some weights of the model checkpoint at bert-base-chinese were not used when initializing BertForSequenceClassification: ['cls.predictions.transform.LayerNorm.bias', 'cls.predictions.bias', 'cls.predictions.transform.dense.weight', 'cls.predictions.transform.LayerNorm.weight', 'cls.seq_relationship.weight', 'cls.predictions.transform.dense.bias', 'cls.seq_relationship.bias', 'cls.predictions.decoder.weight']\n",
      "- This IS expected if you are initializing BertForSequenceClassification from the checkpoint of a model trained on another task or with another architecture (e.g. initializing a BertForSequenceClassification model from a BertForPreTraining model).\n",
      "- This IS NOT expected if you are initializing BertForSequenceClassification from the checkpoint of a model that you expect to be exactly identical (initializing a BertForSequenceClassification model from a BertForSequenceClassification model).\n",
      "Some weights of BertForSequenceClassification were not initialized from the model checkpoint at bert-base-chinese and are newly initialized: ['classifier.bias', 'classifier.weight']\n",
      "You should probably TRAIN this model on a down-stream task to be able to use it for predictions and inference.\n"
     ]
    },
    {
     "data": {
      "text/plain": [
       "BertForSequenceClassification(\n",
       "  (bert): BertModel(\n",
       "    (embeddings): BertEmbeddings(\n",
       "      (word_embeddings): Embedding(21128, 768, padding_idx=0)\n",
       "      (position_embeddings): Embedding(512, 768)\n",
       "      (token_type_embeddings): Embedding(2, 768)\n",
       "      (LayerNorm): LayerNorm((768,), eps=1e-12, elementwise_affine=True)\n",
       "      (dropout): Dropout(p=0.1, inplace=False)\n",
       "    )\n",
       "    (encoder): BertEncoder(\n",
       "      (layer): ModuleList(\n",
       "        (0): BertLayer(\n",
       "          (attention): BertAttention(\n",
       "            (self): BertSelfAttention(\n",
       "              (query): Linear(in_features=768, out_features=768, bias=True)\n",
       "              (key): Linear(in_features=768, out_features=768, bias=True)\n",
       "              (value): Linear(in_features=768, out_features=768, bias=True)\n",
       "              (dropout): Dropout(p=0.1, inplace=False)\n",
       "            )\n",
       "            (output): BertSelfOutput(\n",
       "              (dense): Linear(in_features=768, out_features=768, bias=True)\n",
       "              (LayerNorm): LayerNorm((768,), eps=1e-12, elementwise_affine=True)\n",
       "              (dropout): Dropout(p=0.1, inplace=False)\n",
       "            )\n",
       "          )\n",
       "          (intermediate): BertIntermediate(\n",
       "            (dense): Linear(in_features=768, out_features=3072, bias=True)\n",
       "          )\n",
       "          (output): BertOutput(\n",
       "            (dense): Linear(in_features=3072, out_features=768, bias=True)\n",
       "            (LayerNorm): LayerNorm((768,), eps=1e-12, elementwise_affine=True)\n",
       "            (dropout): Dropout(p=0.1, inplace=False)\n",
       "          )\n",
       "        )\n",
       "        (1): BertLayer(\n",
       "          (attention): BertAttention(\n",
       "            (self): BertSelfAttention(\n",
       "              (query): Linear(in_features=768, out_features=768, bias=True)\n",
       "              (key): Linear(in_features=768, out_features=768, bias=True)\n",
       "              (value): Linear(in_features=768, out_features=768, bias=True)\n",
       "              (dropout): Dropout(p=0.1, inplace=False)\n",
       "            )\n",
       "            (output): BertSelfOutput(\n",
       "              (dense): Linear(in_features=768, out_features=768, bias=True)\n",
       "              (LayerNorm): LayerNorm((768,), eps=1e-12, elementwise_affine=True)\n",
       "              (dropout): Dropout(p=0.1, inplace=False)\n",
       "            )\n",
       "          )\n",
       "          (intermediate): BertIntermediate(\n",
       "            (dense): Linear(in_features=768, out_features=3072, bias=True)\n",
       "          )\n",
       "          (output): BertOutput(\n",
       "            (dense): Linear(in_features=3072, out_features=768, bias=True)\n",
       "            (LayerNorm): LayerNorm((768,), eps=1e-12, elementwise_affine=True)\n",
       "            (dropout): Dropout(p=0.1, inplace=False)\n",
       "          )\n",
       "        )\n",
       "        (2): BertLayer(\n",
       "          (attention): BertAttention(\n",
       "            (self): BertSelfAttention(\n",
       "              (query): Linear(in_features=768, out_features=768, bias=True)\n",
       "              (key): Linear(in_features=768, out_features=768, bias=True)\n",
       "              (value): Linear(in_features=768, out_features=768, bias=True)\n",
       "              (dropout): Dropout(p=0.1, inplace=False)\n",
       "            )\n",
       "            (output): BertSelfOutput(\n",
       "              (dense): Linear(in_features=768, out_features=768, bias=True)\n",
       "              (LayerNorm): LayerNorm((768,), eps=1e-12, elementwise_affine=True)\n",
       "              (dropout): Dropout(p=0.1, inplace=False)\n",
       "            )\n",
       "          )\n",
       "          (intermediate): BertIntermediate(\n",
       "            (dense): Linear(in_features=768, out_features=3072, bias=True)\n",
       "          )\n",
       "          (output): BertOutput(\n",
       "            (dense): Linear(in_features=3072, out_features=768, bias=True)\n",
       "            (LayerNorm): LayerNorm((768,), eps=1e-12, elementwise_affine=True)\n",
       "            (dropout): Dropout(p=0.1, inplace=False)\n",
       "          )\n",
       "        )\n",
       "        (3): BertLayer(\n",
       "          (attention): BertAttention(\n",
       "            (self): BertSelfAttention(\n",
       "              (query): Linear(in_features=768, out_features=768, bias=True)\n",
       "              (key): Linear(in_features=768, out_features=768, bias=True)\n",
       "              (value): Linear(in_features=768, out_features=768, bias=True)\n",
       "              (dropout): Dropout(p=0.1, inplace=False)\n",
       "            )\n",
       "            (output): BertSelfOutput(\n",
       "              (dense): Linear(in_features=768, out_features=768, bias=True)\n",
       "              (LayerNorm): LayerNorm((768,), eps=1e-12, elementwise_affine=True)\n",
       "              (dropout): Dropout(p=0.1, inplace=False)\n",
       "            )\n",
       "          )\n",
       "          (intermediate): BertIntermediate(\n",
       "            (dense): Linear(in_features=768, out_features=3072, bias=True)\n",
       "          )\n",
       "          (output): BertOutput(\n",
       "            (dense): Linear(in_features=3072, out_features=768, bias=True)\n",
       "            (LayerNorm): LayerNorm((768,), eps=1e-12, elementwise_affine=True)\n",
       "            (dropout): Dropout(p=0.1, inplace=False)\n",
       "          )\n",
       "        )\n",
       "        (4): BertLayer(\n",
       "          (attention): BertAttention(\n",
       "            (self): BertSelfAttention(\n",
       "              (query): Linear(in_features=768, out_features=768, bias=True)\n",
       "              (key): Linear(in_features=768, out_features=768, bias=True)\n",
       "              (value): Linear(in_features=768, out_features=768, bias=True)\n",
       "              (dropout): Dropout(p=0.1, inplace=False)\n",
       "            )\n",
       "            (output): BertSelfOutput(\n",
       "              (dense): Linear(in_features=768, out_features=768, bias=True)\n",
       "              (LayerNorm): LayerNorm((768,), eps=1e-12, elementwise_affine=True)\n",
       "              (dropout): Dropout(p=0.1, inplace=False)\n",
       "            )\n",
       "          )\n",
       "          (intermediate): BertIntermediate(\n",
       "            (dense): Linear(in_features=768, out_features=3072, bias=True)\n",
       "          )\n",
       "          (output): BertOutput(\n",
       "            (dense): Linear(in_features=3072, out_features=768, bias=True)\n",
       "            (LayerNorm): LayerNorm((768,), eps=1e-12, elementwise_affine=True)\n",
       "            (dropout): Dropout(p=0.1, inplace=False)\n",
       "          )\n",
       "        )\n",
       "        (5): BertLayer(\n",
       "          (attention): BertAttention(\n",
       "            (self): BertSelfAttention(\n",
       "              (query): Linear(in_features=768, out_features=768, bias=True)\n",
       "              (key): Linear(in_features=768, out_features=768, bias=True)\n",
       "              (value): Linear(in_features=768, out_features=768, bias=True)\n",
       "              (dropout): Dropout(p=0.1, inplace=False)\n",
       "            )\n",
       "            (output): BertSelfOutput(\n",
       "              (dense): Linear(in_features=768, out_features=768, bias=True)\n",
       "              (LayerNorm): LayerNorm((768,), eps=1e-12, elementwise_affine=True)\n",
       "              (dropout): Dropout(p=0.1, inplace=False)\n",
       "            )\n",
       "          )\n",
       "          (intermediate): BertIntermediate(\n",
       "            (dense): Linear(in_features=768, out_features=3072, bias=True)\n",
       "          )\n",
       "          (output): BertOutput(\n",
       "            (dense): Linear(in_features=3072, out_features=768, bias=True)\n",
       "            (LayerNorm): LayerNorm((768,), eps=1e-12, elementwise_affine=True)\n",
       "            (dropout): Dropout(p=0.1, inplace=False)\n",
       "          )\n",
       "        )\n",
       "        (6): BertLayer(\n",
       "          (attention): BertAttention(\n",
       "            (self): BertSelfAttention(\n",
       "              (query): Linear(in_features=768, out_features=768, bias=True)\n",
       "              (key): Linear(in_features=768, out_features=768, bias=True)\n",
       "              (value): Linear(in_features=768, out_features=768, bias=True)\n",
       "              (dropout): Dropout(p=0.1, inplace=False)\n",
       "            )\n",
       "            (output): BertSelfOutput(\n",
       "              (dense): Linear(in_features=768, out_features=768, bias=True)\n",
       "              (LayerNorm): LayerNorm((768,), eps=1e-12, elementwise_affine=True)\n",
       "              (dropout): Dropout(p=0.1, inplace=False)\n",
       "            )\n",
       "          )\n",
       "          (intermediate): BertIntermediate(\n",
       "            (dense): Linear(in_features=768, out_features=3072, bias=True)\n",
       "          )\n",
       "          (output): BertOutput(\n",
       "            (dense): Linear(in_features=3072, out_features=768, bias=True)\n",
       "            (LayerNorm): LayerNorm((768,), eps=1e-12, elementwise_affine=True)\n",
       "            (dropout): Dropout(p=0.1, inplace=False)\n",
       "          )\n",
       "        )\n",
       "        (7): BertLayer(\n",
       "          (attention): BertAttention(\n",
       "            (self): BertSelfAttention(\n",
       "              (query): Linear(in_features=768, out_features=768, bias=True)\n",
       "              (key): Linear(in_features=768, out_features=768, bias=True)\n",
       "              (value): Linear(in_features=768, out_features=768, bias=True)\n",
       "              (dropout): Dropout(p=0.1, inplace=False)\n",
       "            )\n",
       "            (output): BertSelfOutput(\n",
       "              (dense): Linear(in_features=768, out_features=768, bias=True)\n",
       "              (LayerNorm): LayerNorm((768,), eps=1e-12, elementwise_affine=True)\n",
       "              (dropout): Dropout(p=0.1, inplace=False)\n",
       "            )\n",
       "          )\n",
       "          (intermediate): BertIntermediate(\n",
       "            (dense): Linear(in_features=768, out_features=3072, bias=True)\n",
       "          )\n",
       "          (output): BertOutput(\n",
       "            (dense): Linear(in_features=3072, out_features=768, bias=True)\n",
       "            (LayerNorm): LayerNorm((768,), eps=1e-12, elementwise_affine=True)\n",
       "            (dropout): Dropout(p=0.1, inplace=False)\n",
       "          )\n",
       "        )\n",
       "        (8): BertLayer(\n",
       "          (attention): BertAttention(\n",
       "            (self): BertSelfAttention(\n",
       "              (query): Linear(in_features=768, out_features=768, bias=True)\n",
       "              (key): Linear(in_features=768, out_features=768, bias=True)\n",
       "              (value): Linear(in_features=768, out_features=768, bias=True)\n",
       "              (dropout): Dropout(p=0.1, inplace=False)\n",
       "            )\n",
       "            (output): BertSelfOutput(\n",
       "              (dense): Linear(in_features=768, out_features=768, bias=True)\n",
       "              (LayerNorm): LayerNorm((768,), eps=1e-12, elementwise_affine=True)\n",
       "              (dropout): Dropout(p=0.1, inplace=False)\n",
       "            )\n",
       "          )\n",
       "          (intermediate): BertIntermediate(\n",
       "            (dense): Linear(in_features=768, out_features=3072, bias=True)\n",
       "          )\n",
       "          (output): BertOutput(\n",
       "            (dense): Linear(in_features=3072, out_features=768, bias=True)\n",
       "            (LayerNorm): LayerNorm((768,), eps=1e-12, elementwise_affine=True)\n",
       "            (dropout): Dropout(p=0.1, inplace=False)\n",
       "          )\n",
       "        )\n",
       "        (9): BertLayer(\n",
       "          (attention): BertAttention(\n",
       "            (self): BertSelfAttention(\n",
       "              (query): Linear(in_features=768, out_features=768, bias=True)\n",
       "              (key): Linear(in_features=768, out_features=768, bias=True)\n",
       "              (value): Linear(in_features=768, out_features=768, bias=True)\n",
       "              (dropout): Dropout(p=0.1, inplace=False)\n",
       "            )\n",
       "            (output): BertSelfOutput(\n",
       "              (dense): Linear(in_features=768, out_features=768, bias=True)\n",
       "              (LayerNorm): LayerNorm((768,), eps=1e-12, elementwise_affine=True)\n",
       "              (dropout): Dropout(p=0.1, inplace=False)\n",
       "            )\n",
       "          )\n",
       "          (intermediate): BertIntermediate(\n",
       "            (dense): Linear(in_features=768, out_features=3072, bias=True)\n",
       "          )\n",
       "          (output): BertOutput(\n",
       "            (dense): Linear(in_features=3072, out_features=768, bias=True)\n",
       "            (LayerNorm): LayerNorm((768,), eps=1e-12, elementwise_affine=True)\n",
       "            (dropout): Dropout(p=0.1, inplace=False)\n",
       "          )\n",
       "        )\n",
       "        (10): BertLayer(\n",
       "          (attention): BertAttention(\n",
       "            (self): BertSelfAttention(\n",
       "              (query): Linear(in_features=768, out_features=768, bias=True)\n",
       "              (key): Linear(in_features=768, out_features=768, bias=True)\n",
       "              (value): Linear(in_features=768, out_features=768, bias=True)\n",
       "              (dropout): Dropout(p=0.1, inplace=False)\n",
       "            )\n",
       "            (output): BertSelfOutput(\n",
       "              (dense): Linear(in_features=768, out_features=768, bias=True)\n",
       "              (LayerNorm): LayerNorm((768,), eps=1e-12, elementwise_affine=True)\n",
       "              (dropout): Dropout(p=0.1, inplace=False)\n",
       "            )\n",
       "          )\n",
       "          (intermediate): BertIntermediate(\n",
       "            (dense): Linear(in_features=768, out_features=3072, bias=True)\n",
       "          )\n",
       "          (output): BertOutput(\n",
       "            (dense): Linear(in_features=3072, out_features=768, bias=True)\n",
       "            (LayerNorm): LayerNorm((768,), eps=1e-12, elementwise_affine=True)\n",
       "            (dropout): Dropout(p=0.1, inplace=False)\n",
       "          )\n",
       "        )\n",
       "        (11): BertLayer(\n",
       "          (attention): BertAttention(\n",
       "            (self): BertSelfAttention(\n",
       "              (query): Linear(in_features=768, out_features=768, bias=True)\n",
       "              (key): Linear(in_features=768, out_features=768, bias=True)\n",
       "              (value): Linear(in_features=768, out_features=768, bias=True)\n",
       "              (dropout): Dropout(p=0.1, inplace=False)\n",
       "            )\n",
       "            (output): BertSelfOutput(\n",
       "              (dense): Linear(in_features=768, out_features=768, bias=True)\n",
       "              (LayerNorm): LayerNorm((768,), eps=1e-12, elementwise_affine=True)\n",
       "              (dropout): Dropout(p=0.1, inplace=False)\n",
       "            )\n",
       "          )\n",
       "          (intermediate): BertIntermediate(\n",
       "            (dense): Linear(in_features=768, out_features=3072, bias=True)\n",
       "          )\n",
       "          (output): BertOutput(\n",
       "            (dense): Linear(in_features=3072, out_features=768, bias=True)\n",
       "            (LayerNorm): LayerNorm((768,), eps=1e-12, elementwise_affine=True)\n",
       "            (dropout): Dropout(p=0.1, inplace=False)\n",
       "          )\n",
       "        )\n",
       "      )\n",
       "    )\n",
       "    (pooler): BertPooler(\n",
       "      (dense): Linear(in_features=768, out_features=768, bias=True)\n",
       "      (activation): Tanh()\n",
       "    )\n",
       "  )\n",
       "  (dropout): Dropout(p=0.1, inplace=False)\n",
       "  (classifier): Linear(in_features=768, out_features=14, bias=True)\n",
       ")"
      ]
     },
     "execution_count": 17,
     "metadata": {},
     "output_type": "execute_result"
    }
   ],
   "source": [
    "from transformers import BertForSequenceClassification, AdamW\n",
    "\n",
    "model = BertForSequenceClassification.from_pretrained('bert-base-chinese',\n",
    "                                                      num_labels=14,\n",
    "                                                      output_attentions=False,\n",
    "                                                      output_hidden_states=False)\n",
    "# Tell mode to use CUDA\n",
    "model.cuda()"
   ]
  },
  {
   "cell_type": "code",
   "execution_count": 18,
   "metadata": {},
   "outputs": [],
   "source": [
    "# Configuring optimizer\n",
    "optimizer = AdamW(model.parameters(),\n",
    "                  lr = 3e-5)"
   ]
  },
  {
   "cell_type": "code",
   "execution_count": 19,
   "metadata": {},
   "outputs": [],
   "source": [
    "# Configuring scheduler\n",
    "from transformers import get_linear_schedule_with_warmup\n",
    "\n",
    "# Total steps: number of batchers * epochs\n",
    "total_steps = len(train_dataloader) * epochs\n",
    "\n",
    "# Set up the scheduler\n",
    "scheduler = get_linear_schedule_with_warmup(optimizer,\n",
    "                                            num_warmup_steps=10,\n",
    "                                            num_training_steps=total_steps)"
   ]
  },
  {
   "cell_type": "markdown",
   "metadata": {},
   "source": [
    "# Training"
   ]
  },
  {
   "cell_type": "code",
   "execution_count": 20,
   "metadata": {},
   "outputs": [],
   "source": [
    "# Import materics for evaluation\n",
    "from sklearn.metrics import accuracy_score, confusion_matrix, classification_report"
   ]
  },
  {
   "cell_type": "code",
   "execution_count": 21,
   "metadata": {},
   "outputs": [],
   "source": [
    "import time\n",
    "import datetime\n",
    "\n",
    "def format_time(elapsed):\n",
    "    '''\n",
    "    Takes a time in seconds and returns a string hh:mm:ss\n",
    "    '''\n",
    "    # Round to the nearest second.\n",
    "    elapsed_rounded = int(round((elapsed)))\n",
    "    # Format as hh:mm:ss\n",
    "    return str(datetime.timedelta(seconds=elapsed_rounded))"
   ]
  },
  {
   "cell_type": "code",
   "execution_count": 22,
   "metadata": {},
   "outputs": [
    {
     "name": "stdout",
     "output_type": "stream",
     "text": [
      "【EPOCH: 1/ 10】\n",
      "Trainig Phase\n",
      "  Average training loss: 0.4977\n",
      "  Training epcoh took: 0:02:01\n",
      "Validation Phase\n",
      "  Average validation loss: 0.2198\n",
      "  Validation accruacy: 0.9439\n",
      "\n",
      "\n",
      "【EPOCH: 2/ 10】\n",
      "Trainig Phase\n",
      "  Average training loss: 0.1390\n",
      "  Training epcoh took: 0:04:13\n",
      "Validation Phase\n",
      "  Average validation loss: 0.2017\n",
      "  Validation accruacy: 0.9489\n",
      "\n",
      "\n",
      "【EPOCH: 3/ 10】\n",
      "Trainig Phase\n",
      "  Average training loss: 0.0766\n",
      "  Training epcoh took: 0:06:25\n",
      "Validation Phase\n",
      "  Average validation loss: 0.2020\n",
      "  Validation accruacy: 0.9546\n",
      "\n",
      "\n",
      "【EPOCH: 4/ 10】\n",
      "Trainig Phase\n",
      "  Average training loss: 0.0334\n",
      "  Training epcoh took: 0:08:36\n",
      "Validation Phase\n",
      "  Average validation loss: 0.2265\n",
      "  Validation accruacy: 0.9554\n",
      "\n",
      "\n",
      "【EPOCH: 5/ 10】\n",
      "Trainig Phase\n",
      "  Average training loss: 0.0136\n",
      "  Training epcoh took: 0:10:48\n",
      "Validation Phase\n",
      "  Average validation loss: 0.2381\n",
      "  Validation accruacy: 0.9568\n",
      "\n",
      "\n",
      "【EPOCH: 6/ 10】\n",
      "Trainig Phase\n",
      "  Average training loss: 0.0099\n",
      "  Training epcoh took: 0:12:59\n",
      "Validation Phase\n",
      "  Average validation loss: 0.2372\n",
      "  Validation accruacy: 0.9596\n",
      "\n",
      "\n",
      "【EPOCH: 7/ 10】\n",
      "Trainig Phase\n",
      "  Average training loss: 0.0036\n",
      "  Training epcoh took: 0:15:11\n",
      "Validation Phase\n",
      "  Average validation loss: 0.2471\n",
      "  Validation accruacy: 0.9596\n",
      "\n",
      "\n",
      "【EPOCH: 8/ 10】\n",
      "Trainig Phase\n",
      "  Average training loss: 0.0020\n",
      "  Training epcoh took: 0:17:22\n",
      "Validation Phase\n",
      "  Average validation loss: 0.2470\n",
      "  Validation accruacy: 0.9604\n",
      "\n",
      "\n",
      "【EPOCH: 9/ 10】\n",
      "Trainig Phase\n",
      "  Average training loss: 0.0011\n",
      "  Training epcoh took: 0:19:34\n",
      "Validation Phase\n",
      "  Average validation loss: 0.2514\n",
      "  Validation accruacy: 0.9596\n",
      "\n",
      "\n",
      "【EPOCH: 10/ 10】\n",
      "Trainig Phase\n",
      "  Average training loss: 0.0008\n",
      "  Training epcoh took: 0:21:45\n",
      "Validation Phase\n",
      "  Average validation loss: 0.2457\n",
      "  Validation accruacy: 0.9614\n",
      "\n",
      "\n"
     ]
    }
   ],
   "source": [
    "# Reset history lists\n",
    "history_training_loss = []\n",
    "history_val_loss = []\n",
    "history_val_acc = []\n",
    "\n",
    "t0 = time.time()\n",
    "\n",
    "for epoch_i in range(epochs):\n",
    "    \n",
    "    print('【EPOCH: {}/ {}】'.format(epoch_i+1, epochs))\n",
    "    print('Trainig Phase')\n",
    "    \n",
    "    # Set training mode\n",
    "    model.train()\n",
    "    \n",
    "    # Reset training loss\n",
    "    total_training_loss = 0.\n",
    "    \n",
    "    # Batch and forward\n",
    "    for batch in train_dataloader:\n",
    "        b_input_ids = batch[0].to(device)\n",
    "        b_masks = batch[1].to(device)\n",
    "        b_labels = batch[2].to(device)\n",
    "    \n",
    "        # Reset gradients before \n",
    "        model.zero_grad()\n",
    "        \n",
    "        # Forward pass\n",
    "        res = model(b_input_ids,\n",
    "                    token_type_ids=None,\n",
    "                    attention_mask=b_masks,\n",
    "                    return_dict=True,\n",
    "                    labels=b_labels)\n",
    "        \n",
    "        loss = res.loss\n",
    "        logits = res.logits\n",
    "        \n",
    "        # sumup training loss\n",
    "        total_training_loss += loss.item()\n",
    "        \n",
    "        # backpropagation\n",
    "        loss.backward()\n",
    "        \n",
    "        # Clip the norm of the gradients to 1.0.\n",
    "        # This is to help prevent the \"exploding gradients\" problem.\n",
    "        torch.nn.utils.clip_grad_norm_(model.parameters(), 1.0)\n",
    "        \n",
    "        # update optimizer and scheduler\n",
    "        optimizer.step()\n",
    "        scheduler.step()\n",
    "        \n",
    "    # averrage loss\n",
    "    avg_train_loss = total_training_loss/len(train_dataloader)\n",
    "    print(\"  Average training loss: {0:.4f}\".format(avg_train_loss))\n",
    "    \n",
    "    # append the loss data to history\n",
    "    history_training_loss.append(avg_train_loss)\n",
    "    \n",
    "    # calculate training time\n",
    "    training_time = format_time(time.time() - t0)\n",
    "    print(\"  Training epcoh took: {:}\".format(training_time))\n",
    "\n",
    "    \n",
    "    # validation\n",
    "    print('Validation Phase')\n",
    "    \n",
    "    # Reset validation loss\n",
    "    total_val_loss = 0\n",
    "    \n",
    "    # Set up lists\n",
    "    ls_val_logits = []\n",
    "    ls_val_labels = []\n",
    "\n",
    "    # Get batchs from val_dataloader\n",
    "    for batch in val_dataloader:\n",
    "        b_input_ids = batch[0].to(device)\n",
    "        b_masks = batch[1].to(device)\n",
    "        b_labels = batch[2].to(device)\n",
    "\n",
    "        # No need to calculate gradients\n",
    "        with torch.no_grad():\n",
    "\n",
    "            res = model(b_input_ids,\n",
    "                        token_type_ids=None,\n",
    "                        attention_mask=b_masks,\n",
    "                        labels=b_labels,\n",
    "                        return_dict=True)\n",
    "\n",
    "        val_loss = res.loss\n",
    "        val_logits = res.logits\n",
    "        total_val_loss += val_loss.item()\n",
    "\n",
    "        # Convert logitis to numpy format\n",
    "        val_logits = np.argmax(val_logits.cpu().detach().numpy(), axis=1)\n",
    "        val_labels = b_labels.cpu().detach().numpy()\n",
    "\n",
    "        # Append data to the lists\n",
    "        for logit in val_logits:\n",
    "            ls_val_logits.append(logit)\n",
    "\n",
    "        for label in val_labels:\n",
    "            ls_val_labels.append(label)\n",
    "    \n",
    "    # Get accuracy score and val_loss\n",
    "    acc = accuracy_score(ls_val_logits, ls_val_labels)\n",
    "    avg_val_loss = total_val_loss/len(val_dataloader)\n",
    "    \n",
    "    # append validation data to history\n",
    "    history_val_acc.append(acc)\n",
    "    history_val_loss.append(avg_val_loss)\n",
    "    \n",
    "    # Print out validation performance\n",
    "    print('  Average validation loss: {:.4f}'.format(avg_val_loss))\n",
    "    print('  Validation accruacy: {:.4f}'.format(acc))\n",
    "    print('\\n')"
   ]
  },
  {
   "cell_type": "markdown",
   "metadata": {},
   "source": [
    "# Training and evaluation performance"
   ]
  },
  {
   "cell_type": "code",
   "execution_count": 23,
   "metadata": {},
   "outputs": [
    {
     "data": {
      "text/html": [
       "<div>\n",
       "<style scoped>\n",
       "    .dataframe tbody tr th:only-of-type {\n",
       "        vertical-align: middle;\n",
       "    }\n",
       "\n",
       "    .dataframe tbody tr th {\n",
       "        vertical-align: top;\n",
       "    }\n",
       "\n",
       "    .dataframe thead th {\n",
       "        text-align: right;\n",
       "    }\n",
       "</style>\n",
       "<table border=\"1\" class=\"dataframe\">\n",
       "  <thead>\n",
       "    <tr style=\"text-align: right;\">\n",
       "      <th></th>\n",
       "      <th>loss</th>\n",
       "      <th>val_loss</th>\n",
       "      <th>val_acc</th>\n",
       "    </tr>\n",
       "  </thead>\n",
       "  <tbody>\n",
       "    <tr>\n",
       "      <th>0</th>\n",
       "      <td>0.497713</td>\n",
       "      <td>0.219767</td>\n",
       "      <td>0.943929</td>\n",
       "    </tr>\n",
       "    <tr>\n",
       "      <th>1</th>\n",
       "      <td>0.139042</td>\n",
       "      <td>0.201701</td>\n",
       "      <td>0.948929</td>\n",
       "    </tr>\n",
       "    <tr>\n",
       "      <th>2</th>\n",
       "      <td>0.076564</td>\n",
       "      <td>0.202024</td>\n",
       "      <td>0.954643</td>\n",
       "    </tr>\n",
       "    <tr>\n",
       "      <th>3</th>\n",
       "      <td>0.033400</td>\n",
       "      <td>0.226549</td>\n",
       "      <td>0.955357</td>\n",
       "    </tr>\n",
       "    <tr>\n",
       "      <th>4</th>\n",
       "      <td>0.013596</td>\n",
       "      <td>0.238056</td>\n",
       "      <td>0.956786</td>\n",
       "    </tr>\n",
       "    <tr>\n",
       "      <th>5</th>\n",
       "      <td>0.009897</td>\n",
       "      <td>0.237194</td>\n",
       "      <td>0.959643</td>\n",
       "    </tr>\n",
       "    <tr>\n",
       "      <th>6</th>\n",
       "      <td>0.003576</td>\n",
       "      <td>0.247074</td>\n",
       "      <td>0.959643</td>\n",
       "    </tr>\n",
       "    <tr>\n",
       "      <th>7</th>\n",
       "      <td>0.001969</td>\n",
       "      <td>0.246980</td>\n",
       "      <td>0.960357</td>\n",
       "    </tr>\n",
       "    <tr>\n",
       "      <th>8</th>\n",
       "      <td>0.001079</td>\n",
       "      <td>0.251435</td>\n",
       "      <td>0.959643</td>\n",
       "    </tr>\n",
       "    <tr>\n",
       "      <th>9</th>\n",
       "      <td>0.000844</td>\n",
       "      <td>0.245722</td>\n",
       "      <td>0.961429</td>\n",
       "    </tr>\n",
       "  </tbody>\n",
       "</table>\n",
       "</div>"
      ],
      "text/plain": [
       "       loss  val_loss   val_acc\n",
       "0  0.497713  0.219767  0.943929\n",
       "1  0.139042  0.201701  0.948929\n",
       "2  0.076564  0.202024  0.954643\n",
       "3  0.033400  0.226549  0.955357\n",
       "4  0.013596  0.238056  0.956786\n",
       "5  0.009897  0.237194  0.959643\n",
       "6  0.003576  0.247074  0.959643\n",
       "7  0.001969  0.246980  0.960357\n",
       "8  0.001079  0.251435  0.959643\n",
       "9  0.000844  0.245722  0.961429"
      ]
     },
     "execution_count": 23,
     "metadata": {},
     "output_type": "execute_result"
    }
   ],
   "source": [
    "# Convert histroy to dataframe\n",
    "cols = ['loss', 'val_loss', 'val_acc']\n",
    "\n",
    "history = np.stack((\n",
    "                    np.array(history_training_loss),        \n",
    "                    np.array(history_val_loss),\n",
    "                    np.array(history_val_acc),\n",
    "                    ), axis=1)\n",
    "\n",
    "df_history = pd.DataFrame(history, columns=cols)\n",
    "\n",
    "# Show df_history\n",
    "df_history"
   ]
  },
  {
   "cell_type": "code",
   "execution_count": 24,
   "metadata": {},
   "outputs": [
    {
     "data": {
      "text/plain": [
       "Text(0.5, 1.0, 'accuracy')"
      ]
     },
     "execution_count": 24,
     "metadata": {},
     "output_type": "execute_result"
    },
    {
     "data": {
      "image/png": "[encoded data removed]",
      "text/plain": [
       "<Figure size 864x288 with 2 Axes>"
      ]
     },
     "metadata": {
      "needs_background": "light"
     },
     "output_type": "display_data"
    }
   ],
   "source": [
    "# Plotting\n",
    "import matplotlib.pyplot as plt\n",
    "\n",
    "plt.figure(figsize=(12,4))\n",
    "\n",
    "plt.subplot(1,2,1)\n",
    "plt.plot(df_history['loss'])\n",
    "plt.plot(df_history['val_loss'])\n",
    "plt.title('loss')\n",
    "\n",
    "plt.subplot(1,2,2)\n",
    "plt.plot(df_history['val_acc'], color='red', linestyle='--')\n",
    "plt.title('accuracy')"
   ]
  },
  {
   "cell_type": "markdown",
   "metadata": {},
   "source": [
    "# Saving the model"
   ]
  },
  {
   "cell_type": "code",
   "execution_count": 26,
   "metadata": {},
   "outputs": [],
   "source": [
    "PATH = 'model/B_1000.pt'\n",
    "\n",
    "torch.save(model.state_dict(), PATH)"
   ]
  },
  {
   "cell_type": "markdown",
   "metadata": {},
   "source": [
    "# Perform on the test data\n",
    "\n",
    "#### # Prepare test_dataloder from 125k dataset "
   ]
  },
  {
   "cell_type": "code",
   "execution_count": 27,
   "metadata": {},
   "outputs": [
    {
     "name": "stdout",
     "output_type": "stream",
     "text": [
      "Number of data entries: 125412\n"
     ]
    },
    {
     "data": {
      "text/html": [
       "<div>\n",
       "<style scoped>\n",
       "    .dataframe tbody tr th:only-of-type {\n",
       "        vertical-align: middle;\n",
       "    }\n",
       "\n",
       "    .dataframe tbody tr th {\n",
       "        vertical-align: top;\n",
       "    }\n",
       "\n",
       "    .dataframe thead th {\n",
       "        text-align: right;\n",
       "    }\n",
       "</style>\n",
       "<table border=\"1\" class=\"dataframe\">\n",
       "  <thead>\n",
       "    <tr style=\"text-align: right;\">\n",
       "      <th></th>\n",
       "      <th>class</th>\n",
       "      <th>text</th>\n",
       "    </tr>\n",
       "  </thead>\n",
       "  <tbody>\n",
       "    <tr>\n",
       "      <th>61943</th>\n",
       "      <td>1</td>\n",
       "      <td>波音获海湾航空8架787飞机订单新浪财经讯 北京时间周五晚间消息巴林海湾航空公司Gulf A...</td>\n",
       "    </tr>\n",
       "    <tr>\n",
       "      <th>86709</th>\n",
       "      <td>2</td>\n",
       "      <td>阿森纳传奇称曼联输切西巴萨丢冠 红魔红星必夺冠新浪体育讯年11月弗格森将会庆祝入主老特拉福德...</td>\n",
       "    </tr>\n",
       "    <tr>\n",
       "      <th>43221</th>\n",
       "      <td>2</td>\n",
       "      <td>阿滨将士冲超夺冠感言 常琳背心酸知晓新浪体育讯北京时间10月16日消息10月15日15点30...</td>\n",
       "    </tr>\n",
       "  </tbody>\n",
       "</table>\n",
       "</div>"
      ],
      "text/plain": [
       "       class                                               text\n",
       "61943      1  波音获海湾航空8架787飞机订单新浪财经讯 北京时间周五晚间消息巴林海湾航空公司Gulf A...\n",
       "86709      2  阿森纳传奇称曼联输切西巴萨丢冠 红魔红星必夺冠新浪体育讯年11月弗格森将会庆祝入主老特拉福德...\n",
       "43221      2  阿滨将士冲超夺冠感言 常琳背心酸知晓新浪体育讯北京时间10月16日消息10月15日15点30..."
      ]
     },
     "execution_count": 27,
     "metadata": {},
     "output_type": "execute_result"
    }
   ],
   "source": [
    "# Load 125k dataset\n",
    "df_test = pd.read_csv('data/125k_without_punc.csv')\n",
    "#df.columns = ['class', 'text']\n",
    "\n",
    "# Show number of data entries\n",
    "print('Number of data entries: {}'.format(len(df_test)))\n",
    "\n",
    "# Mapping class to number\n",
    "df_test['class'] = df_test['class'].map(class_map)\n",
    "\n",
    "# Show a few samples\n",
    "df_test.sample(3)"
   ]
  },
  {
   "cell_type": "code",
   "execution_count": 28,
   "metadata": {},
   "outputs": [
    {
     "data": {
      "text/plain": [
       "<matplotlib.axes._subplots.AxesSubplot at 0x7f38f4433588>"
      ]
     },
     "execution_count": 28,
     "metadata": {},
     "output_type": "execute_result"
    },
    {
     "data": {
      "image/png": "[encoded data removed]",
      "text/plain": [
       "<Figure size 432x288 with 1 Axes>"
      ]
     },
     "metadata": {
      "needs_background": "light"
     },
     "output_type": "display_data"
    }
   ],
   "source": [
    "# Show df_test class disctribution\n",
    "sns.countplot(df_test['class'])"
   ]
  },
  {
   "cell_type": "code",
   "execution_count": 29,
   "metadata": {},
   "outputs": [
    {
     "name": "stderr",
     "output_type": "stream",
     "text": [
      "/opt/conda/lib/python3.7/site-packages/transformers/tokenization_utils_base.py:2190: FutureWarning: The `pad_to_max_length` argument is deprecated and will be removed in a future version, use `padding=True` or `padding='longest'` to pad to the longest sequence in the batch, or use `padding='max_length'` to pad to a max length. In this case, you can give a specific length with `max_length` (e.g. `max_length=45`) or leave max_length to None to pad to the maximal input size of the model (e.g. 512 for Bert).\n",
      "  FutureWarning,\n"
     ]
    },
    {
     "name": "stdout",
     "output_type": "stream",
     "text": [
      "Number of batches in the dataloader: 3920\n"
     ]
    }
   ],
   "source": [
    "# Prepare df_test for prediction\n",
    "t_input_ids, t_attention_mask = get_encoded_dict(df_test)\n",
    "t_input_ids, t_attention_mask = get_tensors(t_input_ids, t_attention_mask)\n",
    "\n",
    "# Prepare dataset and dataloader\n",
    "test_dataset = TensorDataset(t_input_ids, t_attention_mask)\n",
    "test_dataloader = DataLoader(test_dataset,\n",
    "                             batch_size=32,\n",
    "                             sampler=SequentialSampler(test_dataset))\n",
    "\n",
    "# Show dataloader length\n",
    "print('Number of batches in the dataloader: {}'.format(len(test_dataloader)))"
   ]
  },
  {
   "cell_type": "code",
   "execution_count": 30,
   "metadata": {},
   "outputs": [
    {
     "name": "stdout",
     "output_type": "stream",
     "text": [
      "125412\n"
     ]
    }
   ],
   "source": [
    "# Setup lists for predictions and labels\n",
    "ls_test_pred = []\n",
    "\n",
    "# Get batchs from test_dataloader\n",
    "for batch in test_dataloader:\n",
    "    b_input_ids = batch[0].to(device)\n",
    "    b_masks = batch[1].to(device)\n",
    "    \n",
    "    with torch.no_grad():\n",
    "\n",
    "        res = model(b_input_ids,\n",
    "                    attention_mask=b_masks,\n",
    "                    return_dict=True)\n",
    "\n",
    "        test_logits = res.logits\n",
    "        test_logits = np.argmax(test_logits.cpu().detach().numpy(), axis=1)\n",
    "        \n",
    "        for pred in test_logits:\n",
    "            ls_test_pred.append(pred)\n",
    "            \n",
    "print(len(ls_test_pred))"
   ]
  },
  {
   "cell_type": "code",
   "execution_count": 31,
   "metadata": {},
   "outputs": [
    {
     "name": "stdout",
     "output_type": "stream",
     "text": [
      "Prediction accuracy: 0.7303\n"
     ]
    }
   ],
   "source": [
    "# Set up list of test labels\n",
    "ls_test_labels = list(df_test['class'].values)\n",
    "\n",
    "# Get accuracy score and val_loss\n",
    "acc = accuracy_score(ls_test_pred, ls_test_labels)\n",
    "print('Prediction accuracy: {:.4f}'.format(acc))"
   ]
  },
  {
   "cell_type": "code",
   "execution_count": 32,
   "metadata": {},
   "outputs": [
    {
     "data": {
      "text/plain": [
       "<matplotlib.axes._subplots.AxesSubplot at 0x7f38f43ab9e8>"
      ]
     },
     "execution_count": 32,
     "metadata": {},
     "output_type": "execute_result"
    },
    {
     "data": {
      "image/png": "[encoded data removed]",
      "text/plain": [
       "<Figure size 432x288 with 2 Axes>"
      ]
     },
     "metadata": {
      "needs_background": "light"
     },
     "output_type": "display_data"
    }
   ],
   "source": [
    "# Confusion matrix\n",
    "cm = confusion_matrix(ls_test_pred, ls_test_labels)\n",
    "\n",
    "sns.heatmap(cm)"
   ]
  },
  {
   "cell_type": "code",
   "execution_count": 33,
   "metadata": {},
   "outputs": [
    {
     "name": "stdout",
     "output_type": "stream",
     "text": [
      "              precision    recall  f1-score   support\n",
      "\n",
      "           0       0.54      0.94      0.69     14147\n",
      "           1       0.53      0.78      0.63     15838\n",
      "           2       0.80      0.99      0.88     15953\n",
      "           3       0.90      0.94      0.92     13269\n",
      "           4       0.73      0.80      0.77      8582\n",
      "           5       0.91      0.68      0.78     10147\n",
      "           6       0.93      0.86      0.90      6795\n",
      "           7       0.64      0.31      0.42     11390\n",
      "           8       0.93      0.74      0.82      6144\n",
      "           9       0.95      0.42      0.59      8232\n",
      "          10       0.96      0.43      0.59      6703\n",
      "          11       0.97      0.70      0.82      2780\n",
      "          12       0.99      0.23      0.38      4837\n",
      "          13       0.96      0.86      0.91       595\n",
      "\n",
      "    accuracy                           0.73    125412\n",
      "   macro avg       0.84      0.69      0.72    125412\n",
      "weighted avg       0.78      0.73      0.72    125412\n",
      "\n"
     ]
    }
   ],
   "source": [
    "# Classification report\n",
    "cr = classification_report(ls_test_pred, ls_test_labels)\n",
    "\n",
    "print(cr)"
   ]
  },
  {
   "cell_type": "markdown",
   "metadata": {},
   "source": [
    "# Export training history"
   ]
  },
  {
   "cell_type": "code",
   "execution_count": 34,
   "metadata": {},
   "outputs": [],
   "source": [
    "df_history.to_csv('history/B_1000.csv')"
   ]
  },
  {
   "cell_type": "code",
   "execution_count": 35,
   "metadata": {},
   "outputs": [
    {
     "data": {
      "text/html": [
       "<div>\n",
       "<style scoped>\n",
       "    .dataframe tbody tr th:only-of-type {\n",
       "        vertical-align: middle;\n",
       "    }\n",
       "\n",
       "    .dataframe tbody tr th {\n",
       "        vertical-align: top;\n",
       "    }\n",
       "\n",
       "    .dataframe thead th {\n",
       "        text-align: right;\n",
       "    }\n",
       "</style>\n",
       "<table border=\"1\" class=\"dataframe\">\n",
       "  <thead>\n",
       "    <tr style=\"text-align: right;\">\n",
       "      <th></th>\n",
       "      <th>loss</th>\n",
       "      <th>val_loss</th>\n",
       "      <th>val_acc</th>\n",
       "    </tr>\n",
       "  </thead>\n",
       "  <tbody>\n",
       "    <tr>\n",
       "      <th>0</th>\n",
       "      <td>0.497713</td>\n",
       "      <td>0.219767</td>\n",
       "      <td>0.943929</td>\n",
       "    </tr>\n",
       "    <tr>\n",
       "      <th>1</th>\n",
       "      <td>0.139042</td>\n",
       "      <td>0.201701</td>\n",
       "      <td>0.948929</td>\n",
       "    </tr>\n",
       "    <tr>\n",
       "      <th>2</th>\n",
       "      <td>0.076564</td>\n",
       "      <td>0.202024</td>\n",
       "      <td>0.954643</td>\n",
       "    </tr>\n",
       "    <tr>\n",
       "      <th>3</th>\n",
       "      <td>0.033400</td>\n",
       "      <td>0.226549</td>\n",
       "      <td>0.955357</td>\n",
       "    </tr>\n",
       "    <tr>\n",
       "      <th>4</th>\n",
       "      <td>0.013596</td>\n",
       "      <td>0.238056</td>\n",
       "      <td>0.956786</td>\n",
       "    </tr>\n",
       "    <tr>\n",
       "      <th>5</th>\n",
       "      <td>0.009897</td>\n",
       "      <td>0.237194</td>\n",
       "      <td>0.959643</td>\n",
       "    </tr>\n",
       "    <tr>\n",
       "      <th>6</th>\n",
       "      <td>0.003576</td>\n",
       "      <td>0.247074</td>\n",
       "      <td>0.959643</td>\n",
       "    </tr>\n",
       "    <tr>\n",
       "      <th>7</th>\n",
       "      <td>0.001969</td>\n",
       "      <td>0.246980</td>\n",
       "      <td>0.960357</td>\n",
       "    </tr>\n",
       "    <tr>\n",
       "      <th>8</th>\n",
       "      <td>0.001079</td>\n",
       "      <td>0.251435</td>\n",
       "      <td>0.959643</td>\n",
       "    </tr>\n",
       "    <tr>\n",
       "      <th>9</th>\n",
       "      <td>0.000844</td>\n",
       "      <td>0.245722</td>\n",
       "      <td>0.961429</td>\n",
       "    </tr>\n",
       "  </tbody>\n",
       "</table>\n",
       "</div>"
      ],
      "text/plain": [
       "       loss  val_loss   val_acc\n",
       "0  0.497713  0.219767  0.943929\n",
       "1  0.139042  0.201701  0.948929\n",
       "2  0.076564  0.202024  0.954643\n",
       "3  0.033400  0.226549  0.955357\n",
       "4  0.013596  0.238056  0.956786\n",
       "5  0.009897  0.237194  0.959643\n",
       "6  0.003576  0.247074  0.959643\n",
       "7  0.001969  0.246980  0.960357\n",
       "8  0.001079  0.251435  0.959643\n",
       "9  0.000844  0.245722  0.961429"
      ]
     },
     "execution_count": 35,
     "metadata": {},
     "output_type": "execute_result"
    }
   ],
   "source": [
    "df_history"
   ]
  },
  {
   "cell_type": "code",
   "execution_count": null,
   "metadata": {},
   "outputs": [],
   "source": []
  }
 ],
 "metadata": {
  "kernelspec": {
   "display_name": "Python 3",
   "language": "python",
   "name": "python3"
  },
  "language_info": {
   "codemirror_mode": {
    "name": "ipython",
    "version": 3
   },
   "file_extension": ".py",
   "mimetype": "text/x-python",
   "name": "python",
   "nbconvert_exporter": "python",
   "pygments_lexer": "ipython3",
   "version": "3.7.3"
  }
 },
 "nbformat": 4,
 "nbformat_minor": 4
}
